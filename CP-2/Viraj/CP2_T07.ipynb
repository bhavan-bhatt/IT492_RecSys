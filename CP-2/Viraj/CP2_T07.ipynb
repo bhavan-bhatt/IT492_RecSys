{
  "nbformat": 4,
  "nbformat_minor": 0,
  "metadata": {
    "colab": {
      "provenance": [],
      "collapsed_sections": [
        "8zhGBzOOKdPq",
        "Yq0jBcr4KWjR"
      ],
      "gpuType": "T4"
    },
    "kernelspec": {
      "name": "python3",
      "display_name": "Python 3"
    },
    "language_info": {
      "name": "python"
    },
    "accelerator": "GPU"
  },
  "cells": [
    {
      "cell_type": "markdown",
      "source": [
        "# **Dataset**: **Google Local Review Data**\n",
        "\n",
        "\n",
        "---\n",
        "\n",
        "> This Dataset contains review information on Google map (ratings, text, images, etc.) business metadata (address, geographical info, descriptions, category information, price, open hours, and MISC info), and links (relative businesses) up to Sep 2021 in the United States.\n",
        "\n",
        "> Prediction Based Recommendation has implemented in this colab file.\n",
        "\n",
        "> SVD Model is imported from the surprise library.\n"
      ],
      "metadata": {
        "id": "i-D5H69ggqEt"
      }
    },
    {
      "cell_type": "code",
      "source": [
        "from google.colab import drive\n",
        "drive.mount('/content/drive')"
      ],
      "metadata": {
        "colab": {
          "base_uri": "https://localhost:8080/"
        },
        "id": "stjYn2Xd80Gb",
        "outputId": "f961201d-882f-4408-c3f0-b318572e7b10"
      },
      "execution_count": null,
      "outputs": [
        {
          "output_type": "stream",
          "name": "stdout",
          "text": [
            "Mounted at /content/drive\n"
          ]
        }
      ]
    },
    {
      "cell_type": "markdown",
      "source": [
        "##**Preprocessing**"
      ],
      "metadata": {
        "id": "8zhGBzOOKdPq"
      }
    },
    {
      "cell_type": "code",
      "source": [
        "users_file_path = '/content/drive/MyDrive/DAIICT-RS/CP2/review-North_Dakota.json'\n",
        "meta_file_path = '/content/drive/MyDrive/DAIICT-RS/CP2/meta-North_Dakota.json'"
      ],
      "metadata": {
        "id": "dN45C8uv9I52"
      },
      "execution_count": null,
      "outputs": []
    },
    {
      "cell_type": "code",
      "source": [
        "import pandas as pd"
      ],
      "metadata": {
        "id": "k3BBd1RQ-vhf"
      },
      "execution_count": null,
      "outputs": []
    },
    {
      "cell_type": "code",
      "source": [
        "import json\n",
        "\n",
        "def parse(path):\n",
        "    # Open the JSON file\n",
        "    with open(path, 'r') as json_file:\n",
        "        # Read each line in the file\n",
        "        for line in json_file:\n",
        "            # Use json.loads() to parse each line as JSON\n",
        "            yield json.loads(line)\n",
        "\n",
        "# Parse JSON file and store objects in a list\n",
        "user_json_objects = list(parse(users_file_path))\n",
        "meta_json_objects = list(parse(meta_file_path))\n",
        "\n",
        "# Create a DataFrame from the list of JSON objects\n",
        "users_df = pd.DataFrame(user_json_objects)\n",
        "meta_df = pd.DataFrame(meta_json_objects)"
      ],
      "metadata": {
        "id": "b9x5Dy5YBx6X"
      },
      "execution_count": null,
      "outputs": []
    },
    {
      "cell_type": "code",
      "source": [
        "users_df.head()"
      ],
      "metadata": {
        "colab": {
          "base_uri": "https://localhost:8080/",
          "height": 380
        },
        "id": "_bmR1jARyulw",
        "outputId": "37269415-7f7f-40af-ea39-6d72e432b4b9"
      },
      "execution_count": null,
      "outputs": [
        {
          "output_type": "execute_result",
          "data": {
            "text/plain": [
              "                 user_id             name           time  rating  \\\n",
              "0  108849313974597426826  أحمد آل إبراهيم  1600517759614     5.0   \n",
              "1  113748047376932419918  John OpenMinded  1594757122443     5.0   \n",
              "2  108988419397291213849     Juergen Wolf  1574580027389     5.0   \n",
              "3  109461075406832601697        Jamie Lee  1572608951549     4.0   \n",
              "4  117748833597621418948          lucas03  1604339936721     5.0   \n",
              "\n",
              "                                                text  pics  resp  \\\n",
              "0                    I want to join Catholic Christ.  None  None   \n",
              "1    Its Catholic and devout. What more do you need?  None  None   \n",
              "2  This was my Church in Karlsruhe. However in Ka...  None  None   \n",
              "3                                        Go with god  None  None   \n",
              "4  (Translated by Google) everything faker not th...  None  None   \n",
              "\n",
              "                                gmap_id  \n",
              "0  0x52d94fbefa0e6353:0xf709e2d8674fe3a  \n",
              "1  0x52d94fbefa0e6353:0xf709e2d8674fe3a  \n",
              "2  0x52d94fbefa0e6353:0xf709e2d8674fe3a  \n",
              "3  0x52d94fbefa0e6353:0xf709e2d8674fe3a  \n",
              "4  0x52d94fbefa0e6353:0xf709e2d8674fe3a  "
            ],
            "text/html": [
              "\n",
              "  <div id=\"df-905f31b9-6356-48f8-89e8-319bb2512766\" class=\"colab-df-container\">\n",
              "    <div>\n",
              "<style scoped>\n",
              "    .dataframe tbody tr th:only-of-type {\n",
              "        vertical-align: middle;\n",
              "    }\n",
              "\n",
              "    .dataframe tbody tr th {\n",
              "        vertical-align: top;\n",
              "    }\n",
              "\n",
              "    .dataframe thead th {\n",
              "        text-align: right;\n",
              "    }\n",
              "</style>\n",
              "<table border=\"1\" class=\"dataframe\">\n",
              "  <thead>\n",
              "    <tr style=\"text-align: right;\">\n",
              "      <th></th>\n",
              "      <th>user_id</th>\n",
              "      <th>name</th>\n",
              "      <th>time</th>\n",
              "      <th>rating</th>\n",
              "      <th>text</th>\n",
              "      <th>pics</th>\n",
              "      <th>resp</th>\n",
              "      <th>gmap_id</th>\n",
              "    </tr>\n",
              "  </thead>\n",
              "  <tbody>\n",
              "    <tr>\n",
              "      <th>0</th>\n",
              "      <td>108849313974597426826</td>\n",
              "      <td>أحمد آل إبراهيم</td>\n",
              "      <td>1600517759614</td>\n",
              "      <td>5.0</td>\n",
              "      <td>I want to join Catholic Christ.</td>\n",
              "      <td>None</td>\n",
              "      <td>None</td>\n",
              "      <td>0x52d94fbefa0e6353:0xf709e2d8674fe3a</td>\n",
              "    </tr>\n",
              "    <tr>\n",
              "      <th>1</th>\n",
              "      <td>113748047376932419918</td>\n",
              "      <td>John OpenMinded</td>\n",
              "      <td>1594757122443</td>\n",
              "      <td>5.0</td>\n",
              "      <td>Its Catholic and devout. What more do you need?</td>\n",
              "      <td>None</td>\n",
              "      <td>None</td>\n",
              "      <td>0x52d94fbefa0e6353:0xf709e2d8674fe3a</td>\n",
              "    </tr>\n",
              "    <tr>\n",
              "      <th>2</th>\n",
              "      <td>108988419397291213849</td>\n",
              "      <td>Juergen Wolf</td>\n",
              "      <td>1574580027389</td>\n",
              "      <td>5.0</td>\n",
              "      <td>This was my Church in Karlsruhe. However in Ka...</td>\n",
              "      <td>None</td>\n",
              "      <td>None</td>\n",
              "      <td>0x52d94fbefa0e6353:0xf709e2d8674fe3a</td>\n",
              "    </tr>\n",
              "    <tr>\n",
              "      <th>3</th>\n",
              "      <td>109461075406832601697</td>\n",
              "      <td>Jamie Lee</td>\n",
              "      <td>1572608951549</td>\n",
              "      <td>4.0</td>\n",
              "      <td>Go with god</td>\n",
              "      <td>None</td>\n",
              "      <td>None</td>\n",
              "      <td>0x52d94fbefa0e6353:0xf709e2d8674fe3a</td>\n",
              "    </tr>\n",
              "    <tr>\n",
              "      <th>4</th>\n",
              "      <td>117748833597621418948</td>\n",
              "      <td>lucas03</td>\n",
              "      <td>1604339936721</td>\n",
              "      <td>5.0</td>\n",
              "      <td>(Translated by Google) everything faker not th...</td>\n",
              "      <td>None</td>\n",
              "      <td>None</td>\n",
              "      <td>0x52d94fbefa0e6353:0xf709e2d8674fe3a</td>\n",
              "    </tr>\n",
              "  </tbody>\n",
              "</table>\n",
              "</div>\n",
              "    <div class=\"colab-df-buttons\">\n",
              "\n",
              "  <div class=\"colab-df-container\">\n",
              "    <button class=\"colab-df-convert\" onclick=\"convertToInteractive('df-905f31b9-6356-48f8-89e8-319bb2512766')\"\n",
              "            title=\"Convert this dataframe to an interactive table.\"\n",
              "            style=\"display:none;\">\n",
              "\n",
              "  <svg xmlns=\"http://www.w3.org/2000/svg\" height=\"24px\" viewBox=\"0 -960 960 960\">\n",
              "    <path d=\"M120-120v-720h720v720H120Zm60-500h600v-160H180v160Zm220 220h160v-160H400v160Zm0 220h160v-160H400v160ZM180-400h160v-160H180v160Zm440 0h160v-160H620v160ZM180-180h160v-160H180v160Zm440 0h160v-160H620v160Z\"/>\n",
              "  </svg>\n",
              "    </button>\n",
              "\n",
              "  <style>\n",
              "    .colab-df-container {\n",
              "      display:flex;\n",
              "      gap: 12px;\n",
              "    }\n",
              "\n",
              "    .colab-df-convert {\n",
              "      background-color: #E8F0FE;\n",
              "      border: none;\n",
              "      border-radius: 50%;\n",
              "      cursor: pointer;\n",
              "      display: none;\n",
              "      fill: #1967D2;\n",
              "      height: 32px;\n",
              "      padding: 0 0 0 0;\n",
              "      width: 32px;\n",
              "    }\n",
              "\n",
              "    .colab-df-convert:hover {\n",
              "      background-color: #E2EBFA;\n",
              "      box-shadow: 0px 1px 2px rgba(60, 64, 67, 0.3), 0px 1px 3px 1px rgba(60, 64, 67, 0.15);\n",
              "      fill: #174EA6;\n",
              "    }\n",
              "\n",
              "    .colab-df-buttons div {\n",
              "      margin-bottom: 4px;\n",
              "    }\n",
              "\n",
              "    [theme=dark] .colab-df-convert {\n",
              "      background-color: #3B4455;\n",
              "      fill: #D2E3FC;\n",
              "    }\n",
              "\n",
              "    [theme=dark] .colab-df-convert:hover {\n",
              "      background-color: #434B5C;\n",
              "      box-shadow: 0px 1px 3px 1px rgba(0, 0, 0, 0.15);\n",
              "      filter: drop-shadow(0px 1px 2px rgba(0, 0, 0, 0.3));\n",
              "      fill: #FFFFFF;\n",
              "    }\n",
              "  </style>\n",
              "\n",
              "    <script>\n",
              "      const buttonEl =\n",
              "        document.querySelector('#df-905f31b9-6356-48f8-89e8-319bb2512766 button.colab-df-convert');\n",
              "      buttonEl.style.display =\n",
              "        google.colab.kernel.accessAllowed ? 'block' : 'none';\n",
              "\n",
              "      async function convertToInteractive(key) {\n",
              "        const element = document.querySelector('#df-905f31b9-6356-48f8-89e8-319bb2512766');\n",
              "        const dataTable =\n",
              "          await google.colab.kernel.invokeFunction('convertToInteractive',\n",
              "                                                    [key], {});\n",
              "        if (!dataTable) return;\n",
              "\n",
              "        const docLinkHtml = 'Like what you see? Visit the ' +\n",
              "          '<a target=\"_blank\" href=https://colab.research.google.com/notebooks/data_table.ipynb>data table notebook</a>'\n",
              "          + ' to learn more about interactive tables.';\n",
              "        element.innerHTML = '';\n",
              "        dataTable['output_type'] = 'display_data';\n",
              "        await google.colab.output.renderOutput(dataTable, element);\n",
              "        const docLink = document.createElement('div');\n",
              "        docLink.innerHTML = docLinkHtml;\n",
              "        element.appendChild(docLink);\n",
              "      }\n",
              "    </script>\n",
              "  </div>\n",
              "\n",
              "\n",
              "<div id=\"df-080c194d-13ea-480f-b026-c62036d3de08\">\n",
              "  <button class=\"colab-df-quickchart\" onclick=\"quickchart('df-080c194d-13ea-480f-b026-c62036d3de08')\"\n",
              "            title=\"Suggest charts\"\n",
              "            style=\"display:none;\">\n",
              "\n",
              "<svg xmlns=\"http://www.w3.org/2000/svg\" height=\"24px\"viewBox=\"0 0 24 24\"\n",
              "     width=\"24px\">\n",
              "    <g>\n",
              "        <path d=\"M19 3H5c-1.1 0-2 .9-2 2v14c0 1.1.9 2 2 2h14c1.1 0 2-.9 2-2V5c0-1.1-.9-2-2-2zM9 17H7v-7h2v7zm4 0h-2V7h2v10zm4 0h-2v-4h2v4z\"/>\n",
              "    </g>\n",
              "</svg>\n",
              "  </button>\n",
              "\n",
              "<style>\n",
              "  .colab-df-quickchart {\n",
              "      --bg-color: #E8F0FE;\n",
              "      --fill-color: #1967D2;\n",
              "      --hover-bg-color: #E2EBFA;\n",
              "      --hover-fill-color: #174EA6;\n",
              "      --disabled-fill-color: #AAA;\n",
              "      --disabled-bg-color: #DDD;\n",
              "  }\n",
              "\n",
              "  [theme=dark] .colab-df-quickchart {\n",
              "      --bg-color: #3B4455;\n",
              "      --fill-color: #D2E3FC;\n",
              "      --hover-bg-color: #434B5C;\n",
              "      --hover-fill-color: #FFFFFF;\n",
              "      --disabled-bg-color: #3B4455;\n",
              "      --disabled-fill-color: #666;\n",
              "  }\n",
              "\n",
              "  .colab-df-quickchart {\n",
              "    background-color: var(--bg-color);\n",
              "    border: none;\n",
              "    border-radius: 50%;\n",
              "    cursor: pointer;\n",
              "    display: none;\n",
              "    fill: var(--fill-color);\n",
              "    height: 32px;\n",
              "    padding: 0;\n",
              "    width: 32px;\n",
              "  }\n",
              "\n",
              "  .colab-df-quickchart:hover {\n",
              "    background-color: var(--hover-bg-color);\n",
              "    box-shadow: 0 1px 2px rgba(60, 64, 67, 0.3), 0 1px 3px 1px rgba(60, 64, 67, 0.15);\n",
              "    fill: var(--button-hover-fill-color);\n",
              "  }\n",
              "\n",
              "  .colab-df-quickchart-complete:disabled,\n",
              "  .colab-df-quickchart-complete:disabled:hover {\n",
              "    background-color: var(--disabled-bg-color);\n",
              "    fill: var(--disabled-fill-color);\n",
              "    box-shadow: none;\n",
              "  }\n",
              "\n",
              "  .colab-df-spinner {\n",
              "    border: 2px solid var(--fill-color);\n",
              "    border-color: transparent;\n",
              "    border-bottom-color: var(--fill-color);\n",
              "    animation:\n",
              "      spin 1s steps(1) infinite;\n",
              "  }\n",
              "\n",
              "  @keyframes spin {\n",
              "    0% {\n",
              "      border-color: transparent;\n",
              "      border-bottom-color: var(--fill-color);\n",
              "      border-left-color: var(--fill-color);\n",
              "    }\n",
              "    20% {\n",
              "      border-color: transparent;\n",
              "      border-left-color: var(--fill-color);\n",
              "      border-top-color: var(--fill-color);\n",
              "    }\n",
              "    30% {\n",
              "      border-color: transparent;\n",
              "      border-left-color: var(--fill-color);\n",
              "      border-top-color: var(--fill-color);\n",
              "      border-right-color: var(--fill-color);\n",
              "    }\n",
              "    40% {\n",
              "      border-color: transparent;\n",
              "      border-right-color: var(--fill-color);\n",
              "      border-top-color: var(--fill-color);\n",
              "    }\n",
              "    60% {\n",
              "      border-color: transparent;\n",
              "      border-right-color: var(--fill-color);\n",
              "    }\n",
              "    80% {\n",
              "      border-color: transparent;\n",
              "      border-right-color: var(--fill-color);\n",
              "      border-bottom-color: var(--fill-color);\n",
              "    }\n",
              "    90% {\n",
              "      border-color: transparent;\n",
              "      border-bottom-color: var(--fill-color);\n",
              "    }\n",
              "  }\n",
              "</style>\n",
              "\n",
              "  <script>\n",
              "    async function quickchart(key) {\n",
              "      const quickchartButtonEl =\n",
              "        document.querySelector('#' + key + ' button');\n",
              "      quickchartButtonEl.disabled = true;  // To prevent multiple clicks.\n",
              "      quickchartButtonEl.classList.add('colab-df-spinner');\n",
              "      try {\n",
              "        const charts = await google.colab.kernel.invokeFunction(\n",
              "            'suggestCharts', [key], {});\n",
              "      } catch (error) {\n",
              "        console.error('Error during call to suggestCharts:', error);\n",
              "      }\n",
              "      quickchartButtonEl.classList.remove('colab-df-spinner');\n",
              "      quickchartButtonEl.classList.add('colab-df-quickchart-complete');\n",
              "    }\n",
              "    (() => {\n",
              "      let quickchartButtonEl =\n",
              "        document.querySelector('#df-080c194d-13ea-480f-b026-c62036d3de08 button');\n",
              "      quickchartButtonEl.style.display =\n",
              "        google.colab.kernel.accessAllowed ? 'block' : 'none';\n",
              "    })();\n",
              "  </script>\n",
              "</div>\n",
              "    </div>\n",
              "  </div>\n"
            ],
            "application/vnd.google.colaboratory.intrinsic+json": {
              "type": "dataframe",
              "variable_name": "users_df"
            }
          },
          "metadata": {},
          "execution_count": 5
        }
      ]
    },
    {
      "cell_type": "code",
      "source": [
        "users_df.shape"
      ],
      "metadata": {
        "colab": {
          "base_uri": "https://localhost:8080/"
        },
        "id": "I5Cc-Q6u_IFU",
        "outputId": "b6b08097-733d-4763-eb98-11cdbdf679f9"
      },
      "execution_count": null,
      "outputs": [
        {
          "output_type": "execute_result",
          "data": {
            "text/plain": [
              "(1109558, 8)"
            ]
          },
          "metadata": {},
          "execution_count": 6
        }
      ]
    },
    {
      "cell_type": "code",
      "source": [
        "meta_df.head()"
      ],
      "metadata": {
        "colab": {
          "base_uri": "https://localhost:8080/",
          "height": 678
        },
        "id": "qTAGvgyb1Y6x",
        "outputId": "da0eddde-3712-42a8-bdfc-b94c0b7f1460"
      },
      "execution_count": null,
      "outputs": [
        {
          "output_type": "execute_result",
          "data": {
            "text/plain": [
              "                                                name  \\\n",
              "0                             St Peter & Paul Church   \n",
              "1                     Northwest Martial Arts Academy   \n",
              "2  Thad's Amazing Magic - Fargo Birthday Party Magic   \n",
              "3                                          Threefold   \n",
              "4                                Gray Brothers Dairy   \n",
              "\n",
              "                                             address  \\\n",
              "0  St Peter & Paul Church, 500 Main St, Karlsruhe...   \n",
              "1  Northwest Martial Arts Academy, 1430 Main Ave,...   \n",
              "2  Thad's Amazing Magic - Fargo Birthday Party Ma...   \n",
              "3      Threefold, 212 W Main Ave, Bismarck, ND 58501   \n",
              "4  Gray Brothers Dairy, 408 N Main St, Stanley, N...   \n",
              "\n",
              "                                 gmap_id description   latitude   longitude  \\\n",
              "0   0x52d94fbefa0e6353:0xf709e2d8674fe3a        None  48.093248 -100.618664   \n",
              "1  0x52c8cbe775edec7d:0xb46e15ed33643070        None  46.875093  -96.802717   \n",
              "2  0x52c8cd270f50bbbb:0x4ee4629598a8090e        None  46.812415  -96.856729   \n",
              "3  0x52d7836b7314da5d:0xc3cc63667b8c13a0        None  46.805707 -100.792990   \n",
              "4  0x5320bcc09c8e6f15:0xc888ebee3ea483b6        None  48.324312 -102.390000   \n",
              "\n",
              "                                            category  avg_rating  \\\n",
              "0                                  [Catholic church]         4.9   \n",
              "1                              [Martial arts school]         5.0   \n",
              "2               [Magician, Children's party service]         5.0   \n",
              "3  [Film production company, Video editing servic...         5.0   \n",
              "4                                               None         5.0   \n",
              "\n",
              "   num_of_reviews price                                              hours  \\\n",
              "0               7  None                                               None   \n",
              "1               8  None  [[Thursday, 7:30AM–8PM], [Friday, 7:30AM–8PM],...   \n",
              "2              58  None  [[Thursday, Open 24 hours], [Friday, Open 24 h...   \n",
              "3               5  None  [[Wednesday, 9AM–6PM], [Thursday, 9AM–6PM], [F...   \n",
              "4               1  None                                               None   \n",
              "\n",
              "                                                MISC                   state  \\\n",
              "0  {'Accessibility': ['Wheelchair accessible entr...                    None   \n",
              "1  {'Accessibility': ['Wheelchair accessible entr...   Closed ⋅ Opens 7:30AM   \n",
              "2                   {'Amenities': ['Good for kids']}           Open 24 hours   \n",
              "3                                               None  Closed ⋅ Opens 9AM Thu   \n",
              "4                                               None                    None   \n",
              "\n",
              "                                    relative_results  \\\n",
              "0  [0x52d9384b75abac93:0x13526f8266cae6cf, 0x52d9...   \n",
              "1  [0x52c8ccbcb1785327:0x2d50311eabd7afc, 0x52cf3...   \n",
              "2  [0x52c8c9613725e9ef:0xc628b86d8593e7e6, 0x52c8...   \n",
              "3  [0x52d7836c2b519b77:0x74c84187e38f42b, 0x52d78...   \n",
              "4  [0x5320bcc63e8fe69d:0x4f22ad0dd39b1970, 0x5320...   \n",
              "\n",
              "                                                 url  \n",
              "0  https://www.google.com/maps/place//data=!4m2!3...  \n",
              "1  https://www.google.com/maps/place//data=!4m2!3...  \n",
              "2  https://www.google.com/maps/place//data=!4m2!3...  \n",
              "3  https://www.google.com/maps/place//data=!4m2!3...  \n",
              "4  https://www.google.com/maps/place//data=!4m2!3...  "
            ],
            "text/html": [
              "\n",
              "  <div id=\"df-b0bbf009-11dc-4cbd-879a-24024f59a296\" class=\"colab-df-container\">\n",
              "    <div>\n",
              "<style scoped>\n",
              "    .dataframe tbody tr th:only-of-type {\n",
              "        vertical-align: middle;\n",
              "    }\n",
              "\n",
              "    .dataframe tbody tr th {\n",
              "        vertical-align: top;\n",
              "    }\n",
              "\n",
              "    .dataframe thead th {\n",
              "        text-align: right;\n",
              "    }\n",
              "</style>\n",
              "<table border=\"1\" class=\"dataframe\">\n",
              "  <thead>\n",
              "    <tr style=\"text-align: right;\">\n",
              "      <th></th>\n",
              "      <th>name</th>\n",
              "      <th>address</th>\n",
              "      <th>gmap_id</th>\n",
              "      <th>description</th>\n",
              "      <th>latitude</th>\n",
              "      <th>longitude</th>\n",
              "      <th>category</th>\n",
              "      <th>avg_rating</th>\n",
              "      <th>num_of_reviews</th>\n",
              "      <th>price</th>\n",
              "      <th>hours</th>\n",
              "      <th>MISC</th>\n",
              "      <th>state</th>\n",
              "      <th>relative_results</th>\n",
              "      <th>url</th>\n",
              "    </tr>\n",
              "  </thead>\n",
              "  <tbody>\n",
              "    <tr>\n",
              "      <th>0</th>\n",
              "      <td>St Peter &amp; Paul Church</td>\n",
              "      <td>St Peter &amp; Paul Church, 500 Main St, Karlsruhe...</td>\n",
              "      <td>0x52d94fbefa0e6353:0xf709e2d8674fe3a</td>\n",
              "      <td>None</td>\n",
              "      <td>48.093248</td>\n",
              "      <td>-100.618664</td>\n",
              "      <td>[Catholic church]</td>\n",
              "      <td>4.9</td>\n",
              "      <td>7</td>\n",
              "      <td>None</td>\n",
              "      <td>None</td>\n",
              "      <td>{'Accessibility': ['Wheelchair accessible entr...</td>\n",
              "      <td>None</td>\n",
              "      <td>[0x52d9384b75abac93:0x13526f8266cae6cf, 0x52d9...</td>\n",
              "      <td>https://www.google.com/maps/place//data=!4m2!3...</td>\n",
              "    </tr>\n",
              "    <tr>\n",
              "      <th>1</th>\n",
              "      <td>Northwest Martial Arts Academy</td>\n",
              "      <td>Northwest Martial Arts Academy, 1430 Main Ave,...</td>\n",
              "      <td>0x52c8cbe775edec7d:0xb46e15ed33643070</td>\n",
              "      <td>None</td>\n",
              "      <td>46.875093</td>\n",
              "      <td>-96.802717</td>\n",
              "      <td>[Martial arts school]</td>\n",
              "      <td>5.0</td>\n",
              "      <td>8</td>\n",
              "      <td>None</td>\n",
              "      <td>[[Thursday, 7:30AM–8PM], [Friday, 7:30AM–8PM],...</td>\n",
              "      <td>{'Accessibility': ['Wheelchair accessible entr...</td>\n",
              "      <td>Closed ⋅ Opens 7:30AM</td>\n",
              "      <td>[0x52c8ccbcb1785327:0x2d50311eabd7afc, 0x52cf3...</td>\n",
              "      <td>https://www.google.com/maps/place//data=!4m2!3...</td>\n",
              "    </tr>\n",
              "    <tr>\n",
              "      <th>2</th>\n",
              "      <td>Thad's Amazing Magic - Fargo Birthday Party Magic</td>\n",
              "      <td>Thad's Amazing Magic - Fargo Birthday Party Ma...</td>\n",
              "      <td>0x52c8cd270f50bbbb:0x4ee4629598a8090e</td>\n",
              "      <td>None</td>\n",
              "      <td>46.812415</td>\n",
              "      <td>-96.856729</td>\n",
              "      <td>[Magician, Children's party service]</td>\n",
              "      <td>5.0</td>\n",
              "      <td>58</td>\n",
              "      <td>None</td>\n",
              "      <td>[[Thursday, Open 24 hours], [Friday, Open 24 h...</td>\n",
              "      <td>{'Amenities': ['Good for kids']}</td>\n",
              "      <td>Open 24 hours</td>\n",
              "      <td>[0x52c8c9613725e9ef:0xc628b86d8593e7e6, 0x52c8...</td>\n",
              "      <td>https://www.google.com/maps/place//data=!4m2!3...</td>\n",
              "    </tr>\n",
              "    <tr>\n",
              "      <th>3</th>\n",
              "      <td>Threefold</td>\n",
              "      <td>Threefold, 212 W Main Ave, Bismarck, ND 58501</td>\n",
              "      <td>0x52d7836b7314da5d:0xc3cc63667b8c13a0</td>\n",
              "      <td>None</td>\n",
              "      <td>46.805707</td>\n",
              "      <td>-100.792990</td>\n",
              "      <td>[Film production company, Video editing servic...</td>\n",
              "      <td>5.0</td>\n",
              "      <td>5</td>\n",
              "      <td>None</td>\n",
              "      <td>[[Wednesday, 9AM–6PM], [Thursday, 9AM–6PM], [F...</td>\n",
              "      <td>None</td>\n",
              "      <td>Closed ⋅ Opens 9AM Thu</td>\n",
              "      <td>[0x52d7836c2b519b77:0x74c84187e38f42b, 0x52d78...</td>\n",
              "      <td>https://www.google.com/maps/place//data=!4m2!3...</td>\n",
              "    </tr>\n",
              "    <tr>\n",
              "      <th>4</th>\n",
              "      <td>Gray Brothers Dairy</td>\n",
              "      <td>Gray Brothers Dairy, 408 N Main St, Stanley, N...</td>\n",
              "      <td>0x5320bcc09c8e6f15:0xc888ebee3ea483b6</td>\n",
              "      <td>None</td>\n",
              "      <td>48.324312</td>\n",
              "      <td>-102.390000</td>\n",
              "      <td>None</td>\n",
              "      <td>5.0</td>\n",
              "      <td>1</td>\n",
              "      <td>None</td>\n",
              "      <td>None</td>\n",
              "      <td>None</td>\n",
              "      <td>None</td>\n",
              "      <td>[0x5320bcc63e8fe69d:0x4f22ad0dd39b1970, 0x5320...</td>\n",
              "      <td>https://www.google.com/maps/place//data=!4m2!3...</td>\n",
              "    </tr>\n",
              "  </tbody>\n",
              "</table>\n",
              "</div>\n",
              "    <div class=\"colab-df-buttons\">\n",
              "\n",
              "  <div class=\"colab-df-container\">\n",
              "    <button class=\"colab-df-convert\" onclick=\"convertToInteractive('df-b0bbf009-11dc-4cbd-879a-24024f59a296')\"\n",
              "            title=\"Convert this dataframe to an interactive table.\"\n",
              "            style=\"display:none;\">\n",
              "\n",
              "  <svg xmlns=\"http://www.w3.org/2000/svg\" height=\"24px\" viewBox=\"0 -960 960 960\">\n",
              "    <path d=\"M120-120v-720h720v720H120Zm60-500h600v-160H180v160Zm220 220h160v-160H400v160Zm0 220h160v-160H400v160ZM180-400h160v-160H180v160Zm440 0h160v-160H620v160ZM180-180h160v-160H180v160Zm440 0h160v-160H620v160Z\"/>\n",
              "  </svg>\n",
              "    </button>\n",
              "\n",
              "  <style>\n",
              "    .colab-df-container {\n",
              "      display:flex;\n",
              "      gap: 12px;\n",
              "    }\n",
              "\n",
              "    .colab-df-convert {\n",
              "      background-color: #E8F0FE;\n",
              "      border: none;\n",
              "      border-radius: 50%;\n",
              "      cursor: pointer;\n",
              "      display: none;\n",
              "      fill: #1967D2;\n",
              "      height: 32px;\n",
              "      padding: 0 0 0 0;\n",
              "      width: 32px;\n",
              "    }\n",
              "\n",
              "    .colab-df-convert:hover {\n",
              "      background-color: #E2EBFA;\n",
              "      box-shadow: 0px 1px 2px rgba(60, 64, 67, 0.3), 0px 1px 3px 1px rgba(60, 64, 67, 0.15);\n",
              "      fill: #174EA6;\n",
              "    }\n",
              "\n",
              "    .colab-df-buttons div {\n",
              "      margin-bottom: 4px;\n",
              "    }\n",
              "\n",
              "    [theme=dark] .colab-df-convert {\n",
              "      background-color: #3B4455;\n",
              "      fill: #D2E3FC;\n",
              "    }\n",
              "\n",
              "    [theme=dark] .colab-df-convert:hover {\n",
              "      background-color: #434B5C;\n",
              "      box-shadow: 0px 1px 3px 1px rgba(0, 0, 0, 0.15);\n",
              "      filter: drop-shadow(0px 1px 2px rgba(0, 0, 0, 0.3));\n",
              "      fill: #FFFFFF;\n",
              "    }\n",
              "  </style>\n",
              "\n",
              "    <script>\n",
              "      const buttonEl =\n",
              "        document.querySelector('#df-b0bbf009-11dc-4cbd-879a-24024f59a296 button.colab-df-convert');\n",
              "      buttonEl.style.display =\n",
              "        google.colab.kernel.accessAllowed ? 'block' : 'none';\n",
              "\n",
              "      async function convertToInteractive(key) {\n",
              "        const element = document.querySelector('#df-b0bbf009-11dc-4cbd-879a-24024f59a296');\n",
              "        const dataTable =\n",
              "          await google.colab.kernel.invokeFunction('convertToInteractive',\n",
              "                                                    [key], {});\n",
              "        if (!dataTable) return;\n",
              "\n",
              "        const docLinkHtml = 'Like what you see? Visit the ' +\n",
              "          '<a target=\"_blank\" href=https://colab.research.google.com/notebooks/data_table.ipynb>data table notebook</a>'\n",
              "          + ' to learn more about interactive tables.';\n",
              "        element.innerHTML = '';\n",
              "        dataTable['output_type'] = 'display_data';\n",
              "        await google.colab.output.renderOutput(dataTable, element);\n",
              "        const docLink = document.createElement('div');\n",
              "        docLink.innerHTML = docLinkHtml;\n",
              "        element.appendChild(docLink);\n",
              "      }\n",
              "    </script>\n",
              "  </div>\n",
              "\n",
              "\n",
              "<div id=\"df-15016eb8-9cd0-4d23-8751-7d8ed8b95ff5\">\n",
              "  <button class=\"colab-df-quickchart\" onclick=\"quickchart('df-15016eb8-9cd0-4d23-8751-7d8ed8b95ff5')\"\n",
              "            title=\"Suggest charts\"\n",
              "            style=\"display:none;\">\n",
              "\n",
              "<svg xmlns=\"http://www.w3.org/2000/svg\" height=\"24px\"viewBox=\"0 0 24 24\"\n",
              "     width=\"24px\">\n",
              "    <g>\n",
              "        <path d=\"M19 3H5c-1.1 0-2 .9-2 2v14c0 1.1.9 2 2 2h14c1.1 0 2-.9 2-2V5c0-1.1-.9-2-2-2zM9 17H7v-7h2v7zm4 0h-2V7h2v10zm4 0h-2v-4h2v4z\"/>\n",
              "    </g>\n",
              "</svg>\n",
              "  </button>\n",
              "\n",
              "<style>\n",
              "  .colab-df-quickchart {\n",
              "      --bg-color: #E8F0FE;\n",
              "      --fill-color: #1967D2;\n",
              "      --hover-bg-color: #E2EBFA;\n",
              "      --hover-fill-color: #174EA6;\n",
              "      --disabled-fill-color: #AAA;\n",
              "      --disabled-bg-color: #DDD;\n",
              "  }\n",
              "\n",
              "  [theme=dark] .colab-df-quickchart {\n",
              "      --bg-color: #3B4455;\n",
              "      --fill-color: #D2E3FC;\n",
              "      --hover-bg-color: #434B5C;\n",
              "      --hover-fill-color: #FFFFFF;\n",
              "      --disabled-bg-color: #3B4455;\n",
              "      --disabled-fill-color: #666;\n",
              "  }\n",
              "\n",
              "  .colab-df-quickchart {\n",
              "    background-color: var(--bg-color);\n",
              "    border: none;\n",
              "    border-radius: 50%;\n",
              "    cursor: pointer;\n",
              "    display: none;\n",
              "    fill: var(--fill-color);\n",
              "    height: 32px;\n",
              "    padding: 0;\n",
              "    width: 32px;\n",
              "  }\n",
              "\n",
              "  .colab-df-quickchart:hover {\n",
              "    background-color: var(--hover-bg-color);\n",
              "    box-shadow: 0 1px 2px rgba(60, 64, 67, 0.3), 0 1px 3px 1px rgba(60, 64, 67, 0.15);\n",
              "    fill: var(--button-hover-fill-color);\n",
              "  }\n",
              "\n",
              "  .colab-df-quickchart-complete:disabled,\n",
              "  .colab-df-quickchart-complete:disabled:hover {\n",
              "    background-color: var(--disabled-bg-color);\n",
              "    fill: var(--disabled-fill-color);\n",
              "    box-shadow: none;\n",
              "  }\n",
              "\n",
              "  .colab-df-spinner {\n",
              "    border: 2px solid var(--fill-color);\n",
              "    border-color: transparent;\n",
              "    border-bottom-color: var(--fill-color);\n",
              "    animation:\n",
              "      spin 1s steps(1) infinite;\n",
              "  }\n",
              "\n",
              "  @keyframes spin {\n",
              "    0% {\n",
              "      border-color: transparent;\n",
              "      border-bottom-color: var(--fill-color);\n",
              "      border-left-color: var(--fill-color);\n",
              "    }\n",
              "    20% {\n",
              "      border-color: transparent;\n",
              "      border-left-color: var(--fill-color);\n",
              "      border-top-color: var(--fill-color);\n",
              "    }\n",
              "    30% {\n",
              "      border-color: transparent;\n",
              "      border-left-color: var(--fill-color);\n",
              "      border-top-color: var(--fill-color);\n",
              "      border-right-color: var(--fill-color);\n",
              "    }\n",
              "    40% {\n",
              "      border-color: transparent;\n",
              "      border-right-color: var(--fill-color);\n",
              "      border-top-color: var(--fill-color);\n",
              "    }\n",
              "    60% {\n",
              "      border-color: transparent;\n",
              "      border-right-color: var(--fill-color);\n",
              "    }\n",
              "    80% {\n",
              "      border-color: transparent;\n",
              "      border-right-color: var(--fill-color);\n",
              "      border-bottom-color: var(--fill-color);\n",
              "    }\n",
              "    90% {\n",
              "      border-color: transparent;\n",
              "      border-bottom-color: var(--fill-color);\n",
              "    }\n",
              "  }\n",
              "</style>\n",
              "\n",
              "  <script>\n",
              "    async function quickchart(key) {\n",
              "      const quickchartButtonEl =\n",
              "        document.querySelector('#' + key + ' button');\n",
              "      quickchartButtonEl.disabled = true;  // To prevent multiple clicks.\n",
              "      quickchartButtonEl.classList.add('colab-df-spinner');\n",
              "      try {\n",
              "        const charts = await google.colab.kernel.invokeFunction(\n",
              "            'suggestCharts', [key], {});\n",
              "      } catch (error) {\n",
              "        console.error('Error during call to suggestCharts:', error);\n",
              "      }\n",
              "      quickchartButtonEl.classList.remove('colab-df-spinner');\n",
              "      quickchartButtonEl.classList.add('colab-df-quickchart-complete');\n",
              "    }\n",
              "    (() => {\n",
              "      let quickchartButtonEl =\n",
              "        document.querySelector('#df-15016eb8-9cd0-4d23-8751-7d8ed8b95ff5 button');\n",
              "      quickchartButtonEl.style.display =\n",
              "        google.colab.kernel.accessAllowed ? 'block' : 'none';\n",
              "    })();\n",
              "  </script>\n",
              "</div>\n",
              "    </div>\n",
              "  </div>\n"
            ],
            "application/vnd.google.colaboratory.intrinsic+json": {
              "type": "dataframe",
              "variable_name": "meta_df",
              "summary": "{\n  \"name\": \"meta_df\",\n  \"rows\": 11987,\n  \"fields\": [\n    {\n      \"column\": \"name\",\n      \"properties\": {\n        \"dtype\": \"string\",\n        \"num_unique_values\": 9965,\n        \"samples\": [\n          \"Mike Dosch Memorial Swimming Pool\",\n          \"Buxton Children Center\",\n          \"The Lockshop\"\n        ],\n        \"semantic_type\": \"\",\n        \"description\": \"\"\n      }\n    },\n    {\n      \"column\": \"address\",\n      \"properties\": {\n        \"dtype\": \"string\",\n        \"num_unique_values\": 11824,\n        \"samples\": [\n          \"Eye Consultants of North Dakota, 3171 44th St S Suite 101, Fargo, ND 58104\",\n          \"Mr K's Steakhouse & Lounge, 820 4th St Ne, Crosby, ND 58730\",\n          \"Horse Shoe, 4501 2nd Ave W, Williston, ND 58801\"\n        ],\n        \"semantic_type\": \"\",\n        \"description\": \"\"\n      }\n    },\n    {\n      \"column\": \"gmap_id\",\n      \"properties\": {\n        \"dtype\": \"string\",\n        \"num_unique_values\": 11937,\n        \"samples\": [\n          \"0x52d0d374fd58be55:0xc61174b3e7abb531\",\n          \"0x52d8492e2c784c71:0x1db2899cde080fdf\",\n          \"0x52c8cb1a08a7b6db:0x21cc82813c2607ea\"\n        ],\n        \"semantic_type\": \"\",\n        \"description\": \"\"\n      }\n    },\n    {\n      \"column\": \"description\",\n      \"properties\": {\n        \"dtype\": \"category\",\n        \"num_unique_values\": 777,\n        \"samples\": [\n          \"Vibrant restaurant & bar serving both Hawaiian & Japanese cuisine, including sushi.\",\n          \"Relaxed Indian eatery offering classic spiced-to-order dishes, plus imported beer & wine.\",\n          \"Flaming teppanyaki grills & sushi rolls with exotic ingredients in a lively setting.\"\n        ],\n        \"semantic_type\": \"\",\n        \"description\": \"\"\n      }\n    },\n    {\n      \"column\": \"latitude\",\n      \"properties\": {\n        \"dtype\": \"number\",\n        \"std\": 0.7166287543748909,\n        \"min\": 28.647889799999998,\n        \"max\": 48.999304599999995,\n        \"num_unique_values\": 11549,\n        \"samples\": [\n          48.200638399999995,\n          47.4629178,\n          46.8590133\n        ],\n        \"semantic_type\": \"\",\n        \"description\": \"\"\n      }\n    },\n    {\n      \"column\": \"longitude\",\n      \"properties\": {\n        \"dtype\": \"number\",\n        \"std\": 3.5137026760208334,\n        \"min\": -104.047715,\n        \"max\": 180.0,\n        \"num_unique_values\": 11580,\n        \"samples\": [\n          -101.2966613,\n          -96.8901293,\n          -101.29798579999999\n        ],\n        \"semantic_type\": \"\",\n        \"description\": \"\"\n      }\n    },\n    {\n      \"column\": \"category\",\n      \"properties\": {\n        \"dtype\": \"object\",\n        \"semantic_type\": \"\",\n        \"description\": \"\"\n      }\n    },\n    {\n      \"column\": \"avg_rating\",\n      \"properties\": {\n        \"dtype\": \"number\",\n        \"std\": 0.6209966518449175,\n        \"min\": 1.0,\n        \"max\": 5.0,\n        \"num_unique_values\": 40,\n        \"samples\": [\n          2.4,\n          3.8,\n          3.7\n        ],\n        \"semantic_type\": \"\",\n        \"description\": \"\"\n      }\n    },\n    {\n      \"column\": \"num_of_reviews\",\n      \"properties\": {\n        \"dtype\": \"number\",\n        \"std\": 219,\n        \"min\": 1,\n        \"max\": 4828,\n        \"num_unique_values\": 693,\n        \"samples\": [\n          794,\n          1332,\n          378\n        ],\n        \"semantic_type\": \"\",\n        \"description\": \"\"\n      }\n    },\n    {\n      \"column\": \"price\",\n      \"properties\": {\n        \"dtype\": \"category\",\n        \"num_unique_values\": 6,\n        \"samples\": [\n          \"$\",\n          \"$$\",\n          \"\\u20a9\\u20a9\"\n        ],\n        \"semantic_type\": \"\",\n        \"description\": \"\"\n      }\n    },\n    {\n      \"column\": \"hours\",\n      \"properties\": {\n        \"dtype\": \"object\",\n        \"semantic_type\": \"\",\n        \"description\": \"\"\n      }\n    },\n    {\n      \"column\": \"MISC\",\n      \"properties\": {\n        \"dtype\": \"object\",\n        \"semantic_type\": \"\",\n        \"description\": \"\"\n      }\n    },\n    {\n      \"column\": \"state\",\n      \"properties\": {\n        \"dtype\": \"category\",\n        \"num_unique_values\": 447,\n        \"samples\": [\n          \"Closed \\u22c5 Opens 12PM Wed\",\n          \"Closes soon \\u22c5 11PM \\u22c5 Opens 8AM Sun\",\n          \"Open \\u22c5 Closes 12AM\"\n        ],\n        \"semantic_type\": \"\",\n        \"description\": \"\"\n      }\n    },\n    {\n      \"column\": \"relative_results\",\n      \"properties\": {\n        \"dtype\": \"object\",\n        \"semantic_type\": \"\",\n        \"description\": \"\"\n      }\n    },\n    {\n      \"column\": \"url\",\n      \"properties\": {\n        \"dtype\": \"string\",\n        \"num_unique_values\": 11937,\n        \"samples\": [\n          \"https://www.google.com/maps/place//data=!4m2!3m1!1s0x52d0d374fd58be55:0xc61174b3e7abb531?authuser=-1&hl=en&gl=us\",\n          \"https://www.google.com/maps/place//data=!4m2!3m1!1s0x52d8492e2c784c71:0x1db2899cde080fdf?authuser=-1&hl=en&gl=us\",\n          \"https://www.google.com/maps/place//data=!4m2!3m1!1s0x52c8cb1a08a7b6db:0x21cc82813c2607ea?authuser=-1&hl=en&gl=us\"\n        ],\n        \"semantic_type\": \"\",\n        \"description\": \"\"\n      }\n    }\n  ]\n}"
            }
          },
          "metadata": {},
          "execution_count": 7
        }
      ]
    },
    {
      "cell_type": "code",
      "source": [
        "meta_df.shape"
      ],
      "metadata": {
        "colab": {
          "base_uri": "https://localhost:8080/"
        },
        "id": "SiUAlM53_L_U",
        "outputId": "3b57c4f8-9a43-4d86-db96-e7c63c196f9e"
      },
      "execution_count": null,
      "outputs": [
        {
          "output_type": "execute_result",
          "data": {
            "text/plain": [
              "(11987, 15)"
            ]
          },
          "metadata": {},
          "execution_count": 8
        }
      ]
    },
    {
      "cell_type": "code",
      "source": [
        "users_df.isnull().sum()"
      ],
      "metadata": {
        "colab": {
          "base_uri": "https://localhost:8080/"
        },
        "id": "MSXcMYNGHYRs",
        "outputId": "a46d8092-a583-4e54-841d-299fafbaf1e0"
      },
      "execution_count": null,
      "outputs": [
        {
          "output_type": "execute_result",
          "data": {
            "text/plain": [
              "user_id      11122\n",
              "name             0\n",
              "time             0\n",
              "rating       11122\n",
              "text        497305\n",
              "pics       1090487\n",
              "resp        914063\n",
              "gmap_id          0\n",
              "dtype: int64"
            ]
          },
          "metadata": {},
          "execution_count": 9
        }
      ]
    },
    {
      "cell_type": "code",
      "source": [
        "meta_df.isnull().sum()"
      ],
      "metadata": {
        "colab": {
          "base_uri": "https://localhost:8080/"
        },
        "id": "RO0RcoNfJwdZ",
        "outputId": "2671c191-24eb-4ef4-f63b-574c2a45ef8f"
      },
      "execution_count": null,
      "outputs": [
        {
          "output_type": "execute_result",
          "data": {
            "text/plain": [
              "name                    0\n",
              "address                97\n",
              "gmap_id                 0\n",
              "description         10231\n",
              "latitude                0\n",
              "longitude               0\n",
              "category               57\n",
              "avg_rating              0\n",
              "num_of_reviews          0\n",
              "price               10023\n",
              "hours                3272\n",
              "MISC                 2419\n",
              "state                3756\n",
              "relative_results      982\n",
              "url                     0\n",
              "dtype: int64"
            ]
          },
          "metadata": {},
          "execution_count": 10
        }
      ]
    },
    {
      "cell_type": "markdown",
      "source": [
        "> **Drop the rows which have `None` in there user_id**"
      ],
      "metadata": {
        "id": "RdV3Ft97elDx"
      }
    },
    {
      "cell_type": "code",
      "source": [
        "users_df.dropna(subset=['user_id'], inplace=True)"
      ],
      "metadata": {
        "id": "rankTI7fK7FO"
      },
      "execution_count": null,
      "outputs": []
    },
    {
      "cell_type": "markdown",
      "source": [
        "## **Exploratory Data Analysis**"
      ],
      "metadata": {
        "id": "Yq0jBcr4KWjR"
      }
    },
    {
      "cell_type": "markdown",
      "source": [
        "> **Count number of unique users**"
      ],
      "metadata": {
        "id": "LmE1eJMGOZi2"
      }
    },
    {
      "cell_type": "code",
      "source": [
        "num_of_unique_users = len(users_df['user_id'].unique())\n",
        "\n",
        "print(\"Unique number of Users: \", num_of_unique_users)"
      ],
      "metadata": {
        "colab": {
          "base_uri": "https://localhost:8080/"
        },
        "id": "_qU_CVsbKUS6",
        "outputId": "c7f615b2-14f5-450b-889d-607fb0d131a4"
      },
      "execution_count": null,
      "outputs": [
        {
          "output_type": "stream",
          "name": "stdout",
          "text": [
            "Unique number of Users:  293523\n"
          ]
        }
      ]
    },
    {
      "cell_type": "markdown",
      "source": [
        "> **count users associated with numbers of bussiness**"
      ],
      "metadata": {
        "id": "k-XGEgAAOimY"
      }
    },
    {
      "cell_type": "code",
      "source": [
        "# Group by user_id and count occurrences\n",
        "user_counts = users_df.groupby('user_id').size().reset_index(name='count')\n",
        "\n",
        "# Sort in descending order by counts\n",
        "user_counts_sorted = user_counts.sort_values(by='count', ascending=False)\n",
        "\n",
        "user_counts_sorted"
      ],
      "metadata": {
        "colab": {
          "base_uri": "https://localhost:8080/",
          "height": 424
        },
        "id": "pk1-XgMMKUQk",
        "outputId": "dbc92fde-c214-4b68-814a-645af0947564"
      },
      "execution_count": null,
      "outputs": [
        {
          "output_type": "execute_result",
          "data": {
            "text/plain": [
              "                      user_id  count\n",
              "134999  108485153366736176374    438\n",
              "2614    100163679090357494018    352\n",
              "4515    100285235527386801510    341\n",
              "251621  115830224400151689190    331\n",
              "230030  114482968466650354622    330\n",
              "...                       ...    ...\n",
              "122382  107686060009360628003      1\n",
              "122383  107686095889188687482      1\n",
              "122384  107686262875690134165      1\n",
              "122386  107686344736906714446      1\n",
              "293522  118446695896836410533      1\n",
              "\n",
              "[293523 rows x 2 columns]"
            ],
            "text/html": [
              "\n",
              "  <div id=\"df-a5aa6fb0-1558-4141-9d26-e333e4a673ad\" class=\"colab-df-container\">\n",
              "    <div>\n",
              "<style scoped>\n",
              "    .dataframe tbody tr th:only-of-type {\n",
              "        vertical-align: middle;\n",
              "    }\n",
              "\n",
              "    .dataframe tbody tr th {\n",
              "        vertical-align: top;\n",
              "    }\n",
              "\n",
              "    .dataframe thead th {\n",
              "        text-align: right;\n",
              "    }\n",
              "</style>\n",
              "<table border=\"1\" class=\"dataframe\">\n",
              "  <thead>\n",
              "    <tr style=\"text-align: right;\">\n",
              "      <th></th>\n",
              "      <th>user_id</th>\n",
              "      <th>count</th>\n",
              "    </tr>\n",
              "  </thead>\n",
              "  <tbody>\n",
              "    <tr>\n",
              "      <th>134999</th>\n",
              "      <td>108485153366736176374</td>\n",
              "      <td>438</td>\n",
              "    </tr>\n",
              "    <tr>\n",
              "      <th>2614</th>\n",
              "      <td>100163679090357494018</td>\n",
              "      <td>352</td>\n",
              "    </tr>\n",
              "    <tr>\n",
              "      <th>4515</th>\n",
              "      <td>100285235527386801510</td>\n",
              "      <td>341</td>\n",
              "    </tr>\n",
              "    <tr>\n",
              "      <th>251621</th>\n",
              "      <td>115830224400151689190</td>\n",
              "      <td>331</td>\n",
              "    </tr>\n",
              "    <tr>\n",
              "      <th>230030</th>\n",
              "      <td>114482968466650354622</td>\n",
              "      <td>330</td>\n",
              "    </tr>\n",
              "    <tr>\n",
              "      <th>...</th>\n",
              "      <td>...</td>\n",
              "      <td>...</td>\n",
              "    </tr>\n",
              "    <tr>\n",
              "      <th>122382</th>\n",
              "      <td>107686060009360628003</td>\n",
              "      <td>1</td>\n",
              "    </tr>\n",
              "    <tr>\n",
              "      <th>122383</th>\n",
              "      <td>107686095889188687482</td>\n",
              "      <td>1</td>\n",
              "    </tr>\n",
              "    <tr>\n",
              "      <th>122384</th>\n",
              "      <td>107686262875690134165</td>\n",
              "      <td>1</td>\n",
              "    </tr>\n",
              "    <tr>\n",
              "      <th>122386</th>\n",
              "      <td>107686344736906714446</td>\n",
              "      <td>1</td>\n",
              "    </tr>\n",
              "    <tr>\n",
              "      <th>293522</th>\n",
              "      <td>118446695896836410533</td>\n",
              "      <td>1</td>\n",
              "    </tr>\n",
              "  </tbody>\n",
              "</table>\n",
              "<p>293523 rows × 2 columns</p>\n",
              "</div>\n",
              "    <div class=\"colab-df-buttons\">\n",
              "\n",
              "  <div class=\"colab-df-container\">\n",
              "    <button class=\"colab-df-convert\" onclick=\"convertToInteractive('df-a5aa6fb0-1558-4141-9d26-e333e4a673ad')\"\n",
              "            title=\"Convert this dataframe to an interactive table.\"\n",
              "            style=\"display:none;\">\n",
              "\n",
              "  <svg xmlns=\"http://www.w3.org/2000/svg\" height=\"24px\" viewBox=\"0 -960 960 960\">\n",
              "    <path d=\"M120-120v-720h720v720H120Zm60-500h600v-160H180v160Zm220 220h160v-160H400v160Zm0 220h160v-160H400v160ZM180-400h160v-160H180v160Zm440 0h160v-160H620v160ZM180-180h160v-160H180v160Zm440 0h160v-160H620v160Z\"/>\n",
              "  </svg>\n",
              "    </button>\n",
              "\n",
              "  <style>\n",
              "    .colab-df-container {\n",
              "      display:flex;\n",
              "      gap: 12px;\n",
              "    }\n",
              "\n",
              "    .colab-df-convert {\n",
              "      background-color: #E8F0FE;\n",
              "      border: none;\n",
              "      border-radius: 50%;\n",
              "      cursor: pointer;\n",
              "      display: none;\n",
              "      fill: #1967D2;\n",
              "      height: 32px;\n",
              "      padding: 0 0 0 0;\n",
              "      width: 32px;\n",
              "    }\n",
              "\n",
              "    .colab-df-convert:hover {\n",
              "      background-color: #E2EBFA;\n",
              "      box-shadow: 0px 1px 2px rgba(60, 64, 67, 0.3), 0px 1px 3px 1px rgba(60, 64, 67, 0.15);\n",
              "      fill: #174EA6;\n",
              "    }\n",
              "\n",
              "    .colab-df-buttons div {\n",
              "      margin-bottom: 4px;\n",
              "    }\n",
              "\n",
              "    [theme=dark] .colab-df-convert {\n",
              "      background-color: #3B4455;\n",
              "      fill: #D2E3FC;\n",
              "    }\n",
              "\n",
              "    [theme=dark] .colab-df-convert:hover {\n",
              "      background-color: #434B5C;\n",
              "      box-shadow: 0px 1px 3px 1px rgba(0, 0, 0, 0.15);\n",
              "      filter: drop-shadow(0px 1px 2px rgba(0, 0, 0, 0.3));\n",
              "      fill: #FFFFFF;\n",
              "    }\n",
              "  </style>\n",
              "\n",
              "    <script>\n",
              "      const buttonEl =\n",
              "        document.querySelector('#df-a5aa6fb0-1558-4141-9d26-e333e4a673ad button.colab-df-convert');\n",
              "      buttonEl.style.display =\n",
              "        google.colab.kernel.accessAllowed ? 'block' : 'none';\n",
              "\n",
              "      async function convertToInteractive(key) {\n",
              "        const element = document.querySelector('#df-a5aa6fb0-1558-4141-9d26-e333e4a673ad');\n",
              "        const dataTable =\n",
              "          await google.colab.kernel.invokeFunction('convertToInteractive',\n",
              "                                                    [key], {});\n",
              "        if (!dataTable) return;\n",
              "\n",
              "        const docLinkHtml = 'Like what you see? Visit the ' +\n",
              "          '<a target=\"_blank\" href=https://colab.research.google.com/notebooks/data_table.ipynb>data table notebook</a>'\n",
              "          + ' to learn more about interactive tables.';\n",
              "        element.innerHTML = '';\n",
              "        dataTable['output_type'] = 'display_data';\n",
              "        await google.colab.output.renderOutput(dataTable, element);\n",
              "        const docLink = document.createElement('div');\n",
              "        docLink.innerHTML = docLinkHtml;\n",
              "        element.appendChild(docLink);\n",
              "      }\n",
              "    </script>\n",
              "  </div>\n",
              "\n",
              "\n",
              "<div id=\"df-b676e030-0e5a-45fb-b6c7-374bf361aee6\">\n",
              "  <button class=\"colab-df-quickchart\" onclick=\"quickchart('df-b676e030-0e5a-45fb-b6c7-374bf361aee6')\"\n",
              "            title=\"Suggest charts\"\n",
              "            style=\"display:none;\">\n",
              "\n",
              "<svg xmlns=\"http://www.w3.org/2000/svg\" height=\"24px\"viewBox=\"0 0 24 24\"\n",
              "     width=\"24px\">\n",
              "    <g>\n",
              "        <path d=\"M19 3H5c-1.1 0-2 .9-2 2v14c0 1.1.9 2 2 2h14c1.1 0 2-.9 2-2V5c0-1.1-.9-2-2-2zM9 17H7v-7h2v7zm4 0h-2V7h2v10zm4 0h-2v-4h2v4z\"/>\n",
              "    </g>\n",
              "</svg>\n",
              "  </button>\n",
              "\n",
              "<style>\n",
              "  .colab-df-quickchart {\n",
              "      --bg-color: #E8F0FE;\n",
              "      --fill-color: #1967D2;\n",
              "      --hover-bg-color: #E2EBFA;\n",
              "      --hover-fill-color: #174EA6;\n",
              "      --disabled-fill-color: #AAA;\n",
              "      --disabled-bg-color: #DDD;\n",
              "  }\n",
              "\n",
              "  [theme=dark] .colab-df-quickchart {\n",
              "      --bg-color: #3B4455;\n",
              "      --fill-color: #D2E3FC;\n",
              "      --hover-bg-color: #434B5C;\n",
              "      --hover-fill-color: #FFFFFF;\n",
              "      --disabled-bg-color: #3B4455;\n",
              "      --disabled-fill-color: #666;\n",
              "  }\n",
              "\n",
              "  .colab-df-quickchart {\n",
              "    background-color: var(--bg-color);\n",
              "    border: none;\n",
              "    border-radius: 50%;\n",
              "    cursor: pointer;\n",
              "    display: none;\n",
              "    fill: var(--fill-color);\n",
              "    height: 32px;\n",
              "    padding: 0;\n",
              "    width: 32px;\n",
              "  }\n",
              "\n",
              "  .colab-df-quickchart:hover {\n",
              "    background-color: var(--hover-bg-color);\n",
              "    box-shadow: 0 1px 2px rgba(60, 64, 67, 0.3), 0 1px 3px 1px rgba(60, 64, 67, 0.15);\n",
              "    fill: var(--button-hover-fill-color);\n",
              "  }\n",
              "\n",
              "  .colab-df-quickchart-complete:disabled,\n",
              "  .colab-df-quickchart-complete:disabled:hover {\n",
              "    background-color: var(--disabled-bg-color);\n",
              "    fill: var(--disabled-fill-color);\n",
              "    box-shadow: none;\n",
              "  }\n",
              "\n",
              "  .colab-df-spinner {\n",
              "    border: 2px solid var(--fill-color);\n",
              "    border-color: transparent;\n",
              "    border-bottom-color: var(--fill-color);\n",
              "    animation:\n",
              "      spin 1s steps(1) infinite;\n",
              "  }\n",
              "\n",
              "  @keyframes spin {\n",
              "    0% {\n",
              "      border-color: transparent;\n",
              "      border-bottom-color: var(--fill-color);\n",
              "      border-left-color: var(--fill-color);\n",
              "    }\n",
              "    20% {\n",
              "      border-color: transparent;\n",
              "      border-left-color: var(--fill-color);\n",
              "      border-top-color: var(--fill-color);\n",
              "    }\n",
              "    30% {\n",
              "      border-color: transparent;\n",
              "      border-left-color: var(--fill-color);\n",
              "      border-top-color: var(--fill-color);\n",
              "      border-right-color: var(--fill-color);\n",
              "    }\n",
              "    40% {\n",
              "      border-color: transparent;\n",
              "      border-right-color: var(--fill-color);\n",
              "      border-top-color: var(--fill-color);\n",
              "    }\n",
              "    60% {\n",
              "      border-color: transparent;\n",
              "      border-right-color: var(--fill-color);\n",
              "    }\n",
              "    80% {\n",
              "      border-color: transparent;\n",
              "      border-right-color: var(--fill-color);\n",
              "      border-bottom-color: var(--fill-color);\n",
              "    }\n",
              "    90% {\n",
              "      border-color: transparent;\n",
              "      border-bottom-color: var(--fill-color);\n",
              "    }\n",
              "  }\n",
              "</style>\n",
              "\n",
              "  <script>\n",
              "    async function quickchart(key) {\n",
              "      const quickchartButtonEl =\n",
              "        document.querySelector('#' + key + ' button');\n",
              "      quickchartButtonEl.disabled = true;  // To prevent multiple clicks.\n",
              "      quickchartButtonEl.classList.add('colab-df-spinner');\n",
              "      try {\n",
              "        const charts = await google.colab.kernel.invokeFunction(\n",
              "            'suggestCharts', [key], {});\n",
              "      } catch (error) {\n",
              "        console.error('Error during call to suggestCharts:', error);\n",
              "      }\n",
              "      quickchartButtonEl.classList.remove('colab-df-spinner');\n",
              "      quickchartButtonEl.classList.add('colab-df-quickchart-complete');\n",
              "    }\n",
              "    (() => {\n",
              "      let quickchartButtonEl =\n",
              "        document.querySelector('#df-b676e030-0e5a-45fb-b6c7-374bf361aee6 button');\n",
              "      quickchartButtonEl.style.display =\n",
              "        google.colab.kernel.accessAllowed ? 'block' : 'none';\n",
              "    })();\n",
              "  </script>\n",
              "</div>\n",
              "    </div>\n",
              "  </div>\n"
            ],
            "application/vnd.google.colaboratory.intrinsic+json": {
              "type": "dataframe",
              "variable_name": "user_counts_sorted"
            }
          },
          "metadata": {},
          "execution_count": 13
        }
      ]
    },
    {
      "cell_type": "markdown",
      "source": [
        "> **We will select only users who is associated with atleast 25 bussiness**"
      ],
      "metadata": {
        "id": "2udV2uOxQU3_"
      }
    },
    {
      "cell_type": "code",
      "source": [
        "filtered_users = (user_counts_sorted[user_counts_sorted['count'] > 10])"
      ],
      "metadata": {
        "id": "7BYw5otvKUOD"
      },
      "execution_count": null,
      "outputs": []
    },
    {
      "cell_type": "markdown",
      "source": [
        "\n",
        "\n",
        "---\n",
        "\n"
      ],
      "metadata": {
        "id": "MHk9hvcUiHVh"
      }
    },
    {
      "cell_type": "code",
      "source": [
        "meta_df.shape"
      ],
      "metadata": {
        "colab": {
          "base_uri": "https://localhost:8080/"
        },
        "id": "ct2UkV7dft5F",
        "outputId": "6d610fb7-54fd-4609-a1e7-50a1c01afb01"
      },
      "execution_count": null,
      "outputs": [
        {
          "output_type": "execute_result",
          "data": {
            "text/plain": [
              "(11987, 15)"
            ]
          },
          "metadata": {},
          "execution_count": 15
        }
      ]
    },
    {
      "cell_type": "markdown",
      "source": [
        "> **Number of unique bussiness**"
      ],
      "metadata": {
        "id": "0qpKXnk-h4fa"
      }
    },
    {
      "cell_type": "code",
      "source": [
        "unique_buss = len(meta_df['gmap_id'].unique())\n",
        "\n",
        "print(\"No. of unique bussiness: \", unique_buss)"
      ],
      "metadata": {
        "colab": {
          "base_uri": "https://localhost:8080/"
        },
        "id": "9C53sYy_HYK8",
        "outputId": "b32a65c6-45d8-48d7-9282-e83480d8d886"
      },
      "execution_count": null,
      "outputs": [
        {
          "output_type": "stream",
          "name": "stdout",
          "text": [
            "No. of unique bussiness:  11937\n"
          ]
        }
      ]
    },
    {
      "cell_type": "markdown",
      "source": [
        "> **Drop the duplicated bussiness**"
      ],
      "metadata": {
        "id": "dxFEpSI1iB5Q"
      }
    },
    {
      "cell_type": "code",
      "source": [
        "# Drop duplicate rows based on 'gmap_id'\n",
        "final_meta_mat = meta_df.drop_duplicates(subset=['gmap_id'])"
      ],
      "metadata": {
        "id": "t6hUEBqyHYGR"
      },
      "execution_count": null,
      "outputs": []
    },
    {
      "cell_type": "markdown",
      "source": [
        "> **Bussiness is associated with set of categories like restaurant, hair cutting, bar, Quarry, etc.**"
      ],
      "metadata": {
        "id": "_vQEHOWOkQfg"
      }
    },
    {
      "cell_type": "code",
      "source": [
        "unique_category = list({item for sublist in final_meta_mat['category'].values if isinstance(sublist, list) and sublist for item in sublist})\n",
        "\n",
        "# number of unique category\n",
        "print(len(unique_category))"
      ],
      "metadata": {
        "colab": {
          "base_uri": "https://localhost:8080/"
        },
        "id": "6UySfC68hypt",
        "outputId": "2724d9bb-dd09-4419-f276-63d3bf16455e"
      },
      "execution_count": null,
      "outputs": [
        {
          "output_type": "stream",
          "name": "stdout",
          "text": [
            "1960\n"
          ]
        }
      ]
    },
    {
      "cell_type": "code",
      "source": [
        "# explode the list of category into multiple rows\n",
        "meta_df_new = final_meta_mat.explode('category')\n",
        "\n",
        "meta_df_new.reset_index(drop=True, inplace=True)"
      ],
      "metadata": {
        "id": "WXXOHvq0hynr"
      },
      "execution_count": null,
      "outputs": []
    },
    {
      "cell_type": "markdown",
      "source": [
        "> **Counting number of bussiness associated with each categories.**"
      ],
      "metadata": {
        "id": "Ted_e3X8liqY"
      }
    },
    {
      "cell_type": "code",
      "source": [
        "# Group by user_id and count occurrences\n",
        "meta_category_counts = meta_df_new.groupby('category').size().reset_index(name='count')\n",
        "\n",
        "# Sort in descending order by counts\n",
        "meta_category_counts_sorted = meta_category_counts.sort_values(by='count', ascending=False)\n",
        "\n",
        "# Reset index\n",
        "meta_category_counts_sorted.reset_index(drop=True, inplace=True)\n",
        "\n",
        "meta_category_counts_sorted"
      ],
      "metadata": {
        "colab": {
          "base_uri": "https://localhost:8080/",
          "height": 424
        },
        "id": "jPSiJY9ThylU",
        "outputId": "c59c11f2-a19d-4cef-e640-acccc3935585"
      },
      "execution_count": null,
      "outputs": [
        {
          "output_type": "execute_result",
          "data": {
            "text/plain": [
              "                  category  count\n",
              "0               Restaurant    679\n",
              "1                      Bar    468\n",
              "2              Gas station    447\n",
              "3     Fast food restaurant    357\n",
              "4                     Park    293\n",
              "...                    ...    ...\n",
              "1955    Punjabi restaurant      1\n",
              "1956                Quarry      1\n",
              "1957  Beach clothing store      1\n",
              "1958           Battle site      1\n",
              "1959       Reformed church      1\n",
              "\n",
              "[1960 rows x 2 columns]"
            ],
            "text/html": [
              "\n",
              "  <div id=\"df-fb313716-4d02-49bf-8216-305ec8c69a48\" class=\"colab-df-container\">\n",
              "    <div>\n",
              "<style scoped>\n",
              "    .dataframe tbody tr th:only-of-type {\n",
              "        vertical-align: middle;\n",
              "    }\n",
              "\n",
              "    .dataframe tbody tr th {\n",
              "        vertical-align: top;\n",
              "    }\n",
              "\n",
              "    .dataframe thead th {\n",
              "        text-align: right;\n",
              "    }\n",
              "</style>\n",
              "<table border=\"1\" class=\"dataframe\">\n",
              "  <thead>\n",
              "    <tr style=\"text-align: right;\">\n",
              "      <th></th>\n",
              "      <th>category</th>\n",
              "      <th>count</th>\n",
              "    </tr>\n",
              "  </thead>\n",
              "  <tbody>\n",
              "    <tr>\n",
              "      <th>0</th>\n",
              "      <td>Restaurant</td>\n",
              "      <td>679</td>\n",
              "    </tr>\n",
              "    <tr>\n",
              "      <th>1</th>\n",
              "      <td>Bar</td>\n",
              "      <td>468</td>\n",
              "    </tr>\n",
              "    <tr>\n",
              "      <th>2</th>\n",
              "      <td>Gas station</td>\n",
              "      <td>447</td>\n",
              "    </tr>\n",
              "    <tr>\n",
              "      <th>3</th>\n",
              "      <td>Fast food restaurant</td>\n",
              "      <td>357</td>\n",
              "    </tr>\n",
              "    <tr>\n",
              "      <th>4</th>\n",
              "      <td>Park</td>\n",
              "      <td>293</td>\n",
              "    </tr>\n",
              "    <tr>\n",
              "      <th>...</th>\n",
              "      <td>...</td>\n",
              "      <td>...</td>\n",
              "    </tr>\n",
              "    <tr>\n",
              "      <th>1955</th>\n",
              "      <td>Punjabi restaurant</td>\n",
              "      <td>1</td>\n",
              "    </tr>\n",
              "    <tr>\n",
              "      <th>1956</th>\n",
              "      <td>Quarry</td>\n",
              "      <td>1</td>\n",
              "    </tr>\n",
              "    <tr>\n",
              "      <th>1957</th>\n",
              "      <td>Beach clothing store</td>\n",
              "      <td>1</td>\n",
              "    </tr>\n",
              "    <tr>\n",
              "      <th>1958</th>\n",
              "      <td>Battle site</td>\n",
              "      <td>1</td>\n",
              "    </tr>\n",
              "    <tr>\n",
              "      <th>1959</th>\n",
              "      <td>Reformed church</td>\n",
              "      <td>1</td>\n",
              "    </tr>\n",
              "  </tbody>\n",
              "</table>\n",
              "<p>1960 rows × 2 columns</p>\n",
              "</div>\n",
              "    <div class=\"colab-df-buttons\">\n",
              "\n",
              "  <div class=\"colab-df-container\">\n",
              "    <button class=\"colab-df-convert\" onclick=\"convertToInteractive('df-fb313716-4d02-49bf-8216-305ec8c69a48')\"\n",
              "            title=\"Convert this dataframe to an interactive table.\"\n",
              "            style=\"display:none;\">\n",
              "\n",
              "  <svg xmlns=\"http://www.w3.org/2000/svg\" height=\"24px\" viewBox=\"0 -960 960 960\">\n",
              "    <path d=\"M120-120v-720h720v720H120Zm60-500h600v-160H180v160Zm220 220h160v-160H400v160Zm0 220h160v-160H400v160ZM180-400h160v-160H180v160Zm440 0h160v-160H620v160ZM180-180h160v-160H180v160Zm440 0h160v-160H620v160Z\"/>\n",
              "  </svg>\n",
              "    </button>\n",
              "\n",
              "  <style>\n",
              "    .colab-df-container {\n",
              "      display:flex;\n",
              "      gap: 12px;\n",
              "    }\n",
              "\n",
              "    .colab-df-convert {\n",
              "      background-color: #E8F0FE;\n",
              "      border: none;\n",
              "      border-radius: 50%;\n",
              "      cursor: pointer;\n",
              "      display: none;\n",
              "      fill: #1967D2;\n",
              "      height: 32px;\n",
              "      padding: 0 0 0 0;\n",
              "      width: 32px;\n",
              "    }\n",
              "\n",
              "    .colab-df-convert:hover {\n",
              "      background-color: #E2EBFA;\n",
              "      box-shadow: 0px 1px 2px rgba(60, 64, 67, 0.3), 0px 1px 3px 1px rgba(60, 64, 67, 0.15);\n",
              "      fill: #174EA6;\n",
              "    }\n",
              "\n",
              "    .colab-df-buttons div {\n",
              "      margin-bottom: 4px;\n",
              "    }\n",
              "\n",
              "    [theme=dark] .colab-df-convert {\n",
              "      background-color: #3B4455;\n",
              "      fill: #D2E3FC;\n",
              "    }\n",
              "\n",
              "    [theme=dark] .colab-df-convert:hover {\n",
              "      background-color: #434B5C;\n",
              "      box-shadow: 0px 1px 3px 1px rgba(0, 0, 0, 0.15);\n",
              "      filter: drop-shadow(0px 1px 2px rgba(0, 0, 0, 0.3));\n",
              "      fill: #FFFFFF;\n",
              "    }\n",
              "  </style>\n",
              "\n",
              "    <script>\n",
              "      const buttonEl =\n",
              "        document.querySelector('#df-fb313716-4d02-49bf-8216-305ec8c69a48 button.colab-df-convert');\n",
              "      buttonEl.style.display =\n",
              "        google.colab.kernel.accessAllowed ? 'block' : 'none';\n",
              "\n",
              "      async function convertToInteractive(key) {\n",
              "        const element = document.querySelector('#df-fb313716-4d02-49bf-8216-305ec8c69a48');\n",
              "        const dataTable =\n",
              "          await google.colab.kernel.invokeFunction('convertToInteractive',\n",
              "                                                    [key], {});\n",
              "        if (!dataTable) return;\n",
              "\n",
              "        const docLinkHtml = 'Like what you see? Visit the ' +\n",
              "          '<a target=\"_blank\" href=https://colab.research.google.com/notebooks/data_table.ipynb>data table notebook</a>'\n",
              "          + ' to learn more about interactive tables.';\n",
              "        element.innerHTML = '';\n",
              "        dataTable['output_type'] = 'display_data';\n",
              "        await google.colab.output.renderOutput(dataTable, element);\n",
              "        const docLink = document.createElement('div');\n",
              "        docLink.innerHTML = docLinkHtml;\n",
              "        element.appendChild(docLink);\n",
              "      }\n",
              "    </script>\n",
              "  </div>\n",
              "\n",
              "\n",
              "<div id=\"df-bdaf1472-32f8-4967-8829-c70b2f7d0fcf\">\n",
              "  <button class=\"colab-df-quickchart\" onclick=\"quickchart('df-bdaf1472-32f8-4967-8829-c70b2f7d0fcf')\"\n",
              "            title=\"Suggest charts\"\n",
              "            style=\"display:none;\">\n",
              "\n",
              "<svg xmlns=\"http://www.w3.org/2000/svg\" height=\"24px\"viewBox=\"0 0 24 24\"\n",
              "     width=\"24px\">\n",
              "    <g>\n",
              "        <path d=\"M19 3H5c-1.1 0-2 .9-2 2v14c0 1.1.9 2 2 2h14c1.1 0 2-.9 2-2V5c0-1.1-.9-2-2-2zM9 17H7v-7h2v7zm4 0h-2V7h2v10zm4 0h-2v-4h2v4z\"/>\n",
              "    </g>\n",
              "</svg>\n",
              "  </button>\n",
              "\n",
              "<style>\n",
              "  .colab-df-quickchart {\n",
              "      --bg-color: #E8F0FE;\n",
              "      --fill-color: #1967D2;\n",
              "      --hover-bg-color: #E2EBFA;\n",
              "      --hover-fill-color: #174EA6;\n",
              "      --disabled-fill-color: #AAA;\n",
              "      --disabled-bg-color: #DDD;\n",
              "  }\n",
              "\n",
              "  [theme=dark] .colab-df-quickchart {\n",
              "      --bg-color: #3B4455;\n",
              "      --fill-color: #D2E3FC;\n",
              "      --hover-bg-color: #434B5C;\n",
              "      --hover-fill-color: #FFFFFF;\n",
              "      --disabled-bg-color: #3B4455;\n",
              "      --disabled-fill-color: #666;\n",
              "  }\n",
              "\n",
              "  .colab-df-quickchart {\n",
              "    background-color: var(--bg-color);\n",
              "    border: none;\n",
              "    border-radius: 50%;\n",
              "    cursor: pointer;\n",
              "    display: none;\n",
              "    fill: var(--fill-color);\n",
              "    height: 32px;\n",
              "    padding: 0;\n",
              "    width: 32px;\n",
              "  }\n",
              "\n",
              "  .colab-df-quickchart:hover {\n",
              "    background-color: var(--hover-bg-color);\n",
              "    box-shadow: 0 1px 2px rgba(60, 64, 67, 0.3), 0 1px 3px 1px rgba(60, 64, 67, 0.15);\n",
              "    fill: var(--button-hover-fill-color);\n",
              "  }\n",
              "\n",
              "  .colab-df-quickchart-complete:disabled,\n",
              "  .colab-df-quickchart-complete:disabled:hover {\n",
              "    background-color: var(--disabled-bg-color);\n",
              "    fill: var(--disabled-fill-color);\n",
              "    box-shadow: none;\n",
              "  }\n",
              "\n",
              "  .colab-df-spinner {\n",
              "    border: 2px solid var(--fill-color);\n",
              "    border-color: transparent;\n",
              "    border-bottom-color: var(--fill-color);\n",
              "    animation:\n",
              "      spin 1s steps(1) infinite;\n",
              "  }\n",
              "\n",
              "  @keyframes spin {\n",
              "    0% {\n",
              "      border-color: transparent;\n",
              "      border-bottom-color: var(--fill-color);\n",
              "      border-left-color: var(--fill-color);\n",
              "    }\n",
              "    20% {\n",
              "      border-color: transparent;\n",
              "      border-left-color: var(--fill-color);\n",
              "      border-top-color: var(--fill-color);\n",
              "    }\n",
              "    30% {\n",
              "      border-color: transparent;\n",
              "      border-left-color: var(--fill-color);\n",
              "      border-top-color: var(--fill-color);\n",
              "      border-right-color: var(--fill-color);\n",
              "    }\n",
              "    40% {\n",
              "      border-color: transparent;\n",
              "      border-right-color: var(--fill-color);\n",
              "      border-top-color: var(--fill-color);\n",
              "    }\n",
              "    60% {\n",
              "      border-color: transparent;\n",
              "      border-right-color: var(--fill-color);\n",
              "    }\n",
              "    80% {\n",
              "      border-color: transparent;\n",
              "      border-right-color: var(--fill-color);\n",
              "      border-bottom-color: var(--fill-color);\n",
              "    }\n",
              "    90% {\n",
              "      border-color: transparent;\n",
              "      border-bottom-color: var(--fill-color);\n",
              "    }\n",
              "  }\n",
              "</style>\n",
              "\n",
              "  <script>\n",
              "    async function quickchart(key) {\n",
              "      const quickchartButtonEl =\n",
              "        document.querySelector('#' + key + ' button');\n",
              "      quickchartButtonEl.disabled = true;  // To prevent multiple clicks.\n",
              "      quickchartButtonEl.classList.add('colab-df-spinner');\n",
              "      try {\n",
              "        const charts = await google.colab.kernel.invokeFunction(\n",
              "            'suggestCharts', [key], {});\n",
              "      } catch (error) {\n",
              "        console.error('Error during call to suggestCharts:', error);\n",
              "      }\n",
              "      quickchartButtonEl.classList.remove('colab-df-spinner');\n",
              "      quickchartButtonEl.classList.add('colab-df-quickchart-complete');\n",
              "    }\n",
              "    (() => {\n",
              "      let quickchartButtonEl =\n",
              "        document.querySelector('#df-bdaf1472-32f8-4967-8829-c70b2f7d0fcf button');\n",
              "      quickchartButtonEl.style.display =\n",
              "        google.colab.kernel.accessAllowed ? 'block' : 'none';\n",
              "    })();\n",
              "  </script>\n",
              "</div>\n",
              "    </div>\n",
              "  </div>\n"
            ],
            "application/vnd.google.colaboratory.intrinsic+json": {
              "type": "dataframe",
              "variable_name": "meta_category_counts_sorted",
              "summary": "{\n  \"name\": \"meta_category_counts_sorted\",\n  \"rows\": 1960,\n  \"fields\": [\n    {\n      \"column\": \"category\",\n      \"properties\": {\n        \"dtype\": \"string\",\n        \"num_unique_values\": 1960,\n        \"samples\": [\n          \"Business administration service\",\n          \"Animal shelter\",\n          \"Portrait studio\"\n        ],\n        \"semantic_type\": \"\",\n        \"description\": \"\"\n      }\n    },\n    {\n      \"column\": \"count\",\n      \"properties\": {\n        \"dtype\": \"number\",\n        \"std\": 35,\n        \"min\": 1,\n        \"max\": 679,\n        \"num_unique_values\": 123,\n        \"samples\": [\n          166,\n          85,\n          83\n        ],\n        \"semantic_type\": \"\",\n        \"description\": \"\"\n      }\n    }\n  ]\n}"
            }
          },
          "metadata": {},
          "execution_count": 20
        }
      ]
    },
    {
      "cell_type": "markdown",
      "source": [
        "> **Update the users matrix with filtered user matrix**"
      ],
      "metadata": {
        "id": "KJlpRrc6pzh3"
      }
    },
    {
      "cell_type": "code",
      "source": [
        "final_users_mat = users_df[users_df['user_id'].isin(filtered_users['user_id'])]\n",
        "final_users_mat.reset_index(drop=True, inplace=True)"
      ],
      "metadata": {
        "id": "FmQpagFwhyjC"
      },
      "execution_count": null,
      "outputs": []
    },
    {
      "cell_type": "code",
      "source": [
        "final_users_mat.shape"
      ],
      "metadata": {
        "colab": {
          "base_uri": "https://localhost:8080/"
        },
        "id": "6m513Vq2sgAr",
        "outputId": "4eaeb876-8930-4fba-a071-2705a9b1df1b"
      },
      "execution_count": null,
      "outputs": [
        {
          "output_type": "execute_result",
          "data": {
            "text/plain": [
              "(570431, 8)"
            ]
          },
          "metadata": {},
          "execution_count": 22
        }
      ]
    },
    {
      "cell_type": "code",
      "source": [
        "final_users_mat.columns"
      ],
      "metadata": {
        "colab": {
          "base_uri": "https://localhost:8080/"
        },
        "id": "HvSEB4NBn9rF",
        "outputId": "0122eac0-a88b-4887-87e4-ecea478bd97d"
      },
      "execution_count": null,
      "outputs": [
        {
          "output_type": "execute_result",
          "data": {
            "text/plain": [
              "Index(['user_id', 'name', 'time', 'rating', 'text', 'pics', 'resp', 'gmap_id'], dtype='object')"
            ]
          },
          "metadata": {},
          "execution_count": 23
        }
      ]
    },
    {
      "cell_type": "code",
      "source": [
        "final_meta_mat.shape"
      ],
      "metadata": {
        "colab": {
          "base_uri": "https://localhost:8080/"
        },
        "id": "n3PCDOj5tFiQ",
        "outputId": "ffb71050-11eb-4ca9-c8c9-5d8c5289fa8d"
      },
      "execution_count": null,
      "outputs": [
        {
          "output_type": "execute_result",
          "data": {
            "text/plain": [
              "(11937, 15)"
            ]
          },
          "metadata": {},
          "execution_count": 24
        }
      ]
    },
    {
      "cell_type": "code",
      "source": [
        "final_meta_mat.columns"
      ],
      "metadata": {
        "colab": {
          "base_uri": "https://localhost:8080/"
        },
        "id": "0Kxt6uuNpacn",
        "outputId": "82a16733-e74d-4d79-8511-42557fabe86d"
      },
      "execution_count": null,
      "outputs": [
        {
          "output_type": "execute_result",
          "data": {
            "text/plain": [
              "Index(['name', 'address', 'gmap_id', 'description', 'latitude', 'longitude',\n",
              "       'category', 'avg_rating', 'num_of_reviews', 'price', 'hours', 'MISC',\n",
              "       'state', 'relative_results', 'url'],\n",
              "      dtype='object')"
            ]
          },
          "metadata": {},
          "execution_count": 25
        }
      ]
    },
    {
      "cell_type": "markdown",
      "source": [
        "> **Merging the users and bussiness dataframe**"
      ],
      "metadata": {
        "id": "7YmuPDqZprZg"
      }
    },
    {
      "cell_type": "code",
      "source": [
        "users_meta_merge_mat = final_users_mat.merge(final_meta_mat, on='gmap_id')"
      ],
      "metadata": {
        "id": "8Bg-GVCzHYBi"
      },
      "execution_count": null,
      "outputs": []
    },
    {
      "cell_type": "code",
      "source": [
        "users_meta_merge_mat.shape"
      ],
      "metadata": {
        "colab": {
          "base_uri": "https://localhost:8080/"
        },
        "id": "pqcGnl9WqKTr",
        "outputId": "e00efaa5-ec34-46c7-817a-0b8f47ca1927"
      },
      "execution_count": null,
      "outputs": [
        {
          "output_type": "execute_result",
          "data": {
            "text/plain": [
              "(570431, 22)"
            ]
          },
          "metadata": {},
          "execution_count": 27
        }
      ]
    },
    {
      "cell_type": "code",
      "source": [
        "users_meta_merge_mat['user_id'].nunique()"
      ],
      "metadata": {
        "colab": {
          "base_uri": "https://localhost:8080/"
        },
        "id": "U8aapP2417lf",
        "outputId": "8daa2825-52d0-4c6c-c4ba-0df5ae2e8ccb"
      },
      "execution_count": null,
      "outputs": [
        {
          "output_type": "execute_result",
          "data": {
            "text/plain": [
              "20288"
            ]
          },
          "metadata": {},
          "execution_count": 28
        }
      ]
    },
    {
      "cell_type": "code",
      "source": [
        "users_meta_merge_mat.columns"
      ],
      "metadata": {
        "colab": {
          "base_uri": "https://localhost:8080/"
        },
        "id": "rkcLPcfzrDvc",
        "outputId": "9325adc6-2c76-4b3f-a4ba-f605ea4ec969"
      },
      "execution_count": null,
      "outputs": [
        {
          "output_type": "execute_result",
          "data": {
            "text/plain": [
              "Index(['user_id', 'name_x', 'time', 'rating', 'text', 'pics', 'resp',\n",
              "       'gmap_id', 'name_y', 'address', 'description', 'latitude', 'longitude',\n",
              "       'category', 'avg_rating', 'num_of_reviews', 'price', 'hours', 'MISC',\n",
              "       'state', 'relative_results', 'url'],\n",
              "      dtype='object')"
            ]
          },
          "metadata": {},
          "execution_count": 29
        }
      ]
    },
    {
      "cell_type": "markdown",
      "source": [
        "> **So, there is `360k` rows in merged user-meta matrix.**\n",
        "\n",
        "> **Now, we want to select the 3 features only to generate the user-item matrix which is user_id, gmap_id, rating.**"
      ],
      "metadata": {
        "id": "nF6xyETbqiC8"
      }
    },
    {
      "cell_type": "code",
      "source": [
        "user_meta_mat = users_meta_merge_mat[['user_id', 'gmap_id', 'rating']]"
      ],
      "metadata": {
        "id": "CujoW0UVqKRl"
      },
      "execution_count": null,
      "outputs": []
    },
    {
      "cell_type": "code",
      "source": [
        "user_meta_mat.head()"
      ],
      "metadata": {
        "colab": {
          "base_uri": "https://localhost:8080/",
          "height": 206
        },
        "id": "b-ol5UzErTVG",
        "outputId": "906d523e-dd14-4551-9429-73645e36d376"
      },
      "execution_count": null,
      "outputs": [
        {
          "output_type": "execute_result",
          "data": {
            "text/plain": [
              "                 user_id                                gmap_id  rating\n",
              "0  113748047376932419918   0x52d94fbefa0e6353:0xf709e2d8674fe3a     5.0\n",
              "1  109461075406832601697   0x52d94fbefa0e6353:0xf709e2d8674fe3a     4.0\n",
              "2  113748047376932419918   0x52d94fbefa0e6353:0xf709e2d8674fe3a     5.0\n",
              "3  109461075406832601697   0x52d94fbefa0e6353:0xf709e2d8674fe3a     4.0\n",
              "4  108980581753286957185  0x52c8cbe775edec7d:0xb46e15ed33643070     5.0"
            ],
            "text/html": [
              "\n",
              "  <div id=\"df-af503021-f1a9-42dc-942a-397e730704e4\" class=\"colab-df-container\">\n",
              "    <div>\n",
              "<style scoped>\n",
              "    .dataframe tbody tr th:only-of-type {\n",
              "        vertical-align: middle;\n",
              "    }\n",
              "\n",
              "    .dataframe tbody tr th {\n",
              "        vertical-align: top;\n",
              "    }\n",
              "\n",
              "    .dataframe thead th {\n",
              "        text-align: right;\n",
              "    }\n",
              "</style>\n",
              "<table border=\"1\" class=\"dataframe\">\n",
              "  <thead>\n",
              "    <tr style=\"text-align: right;\">\n",
              "      <th></th>\n",
              "      <th>user_id</th>\n",
              "      <th>gmap_id</th>\n",
              "      <th>rating</th>\n",
              "    </tr>\n",
              "  </thead>\n",
              "  <tbody>\n",
              "    <tr>\n",
              "      <th>0</th>\n",
              "      <td>113748047376932419918</td>\n",
              "      <td>0x52d94fbefa0e6353:0xf709e2d8674fe3a</td>\n",
              "      <td>5.0</td>\n",
              "    </tr>\n",
              "    <tr>\n",
              "      <th>1</th>\n",
              "      <td>109461075406832601697</td>\n",
              "      <td>0x52d94fbefa0e6353:0xf709e2d8674fe3a</td>\n",
              "      <td>4.0</td>\n",
              "    </tr>\n",
              "    <tr>\n",
              "      <th>2</th>\n",
              "      <td>113748047376932419918</td>\n",
              "      <td>0x52d94fbefa0e6353:0xf709e2d8674fe3a</td>\n",
              "      <td>5.0</td>\n",
              "    </tr>\n",
              "    <tr>\n",
              "      <th>3</th>\n",
              "      <td>109461075406832601697</td>\n",
              "      <td>0x52d94fbefa0e6353:0xf709e2d8674fe3a</td>\n",
              "      <td>4.0</td>\n",
              "    </tr>\n",
              "    <tr>\n",
              "      <th>4</th>\n",
              "      <td>108980581753286957185</td>\n",
              "      <td>0x52c8cbe775edec7d:0xb46e15ed33643070</td>\n",
              "      <td>5.0</td>\n",
              "    </tr>\n",
              "  </tbody>\n",
              "</table>\n",
              "</div>\n",
              "    <div class=\"colab-df-buttons\">\n",
              "\n",
              "  <div class=\"colab-df-container\">\n",
              "    <button class=\"colab-df-convert\" onclick=\"convertToInteractive('df-af503021-f1a9-42dc-942a-397e730704e4')\"\n",
              "            title=\"Convert this dataframe to an interactive table.\"\n",
              "            style=\"display:none;\">\n",
              "\n",
              "  <svg xmlns=\"http://www.w3.org/2000/svg\" height=\"24px\" viewBox=\"0 -960 960 960\">\n",
              "    <path d=\"M120-120v-720h720v720H120Zm60-500h600v-160H180v160Zm220 220h160v-160H400v160Zm0 220h160v-160H400v160ZM180-400h160v-160H180v160Zm440 0h160v-160H620v160ZM180-180h160v-160H180v160Zm440 0h160v-160H620v160Z\"/>\n",
              "  </svg>\n",
              "    </button>\n",
              "\n",
              "  <style>\n",
              "    .colab-df-container {\n",
              "      display:flex;\n",
              "      gap: 12px;\n",
              "    }\n",
              "\n",
              "    .colab-df-convert {\n",
              "      background-color: #E8F0FE;\n",
              "      border: none;\n",
              "      border-radius: 50%;\n",
              "      cursor: pointer;\n",
              "      display: none;\n",
              "      fill: #1967D2;\n",
              "      height: 32px;\n",
              "      padding: 0 0 0 0;\n",
              "      width: 32px;\n",
              "    }\n",
              "\n",
              "    .colab-df-convert:hover {\n",
              "      background-color: #E2EBFA;\n",
              "      box-shadow: 0px 1px 2px rgba(60, 64, 67, 0.3), 0px 1px 3px 1px rgba(60, 64, 67, 0.15);\n",
              "      fill: #174EA6;\n",
              "    }\n",
              "\n",
              "    .colab-df-buttons div {\n",
              "      margin-bottom: 4px;\n",
              "    }\n",
              "\n",
              "    [theme=dark] .colab-df-convert {\n",
              "      background-color: #3B4455;\n",
              "      fill: #D2E3FC;\n",
              "    }\n",
              "\n",
              "    [theme=dark] .colab-df-convert:hover {\n",
              "      background-color: #434B5C;\n",
              "      box-shadow: 0px 1px 3px 1px rgba(0, 0, 0, 0.15);\n",
              "      filter: drop-shadow(0px 1px 2px rgba(0, 0, 0, 0.3));\n",
              "      fill: #FFFFFF;\n",
              "    }\n",
              "  </style>\n",
              "\n",
              "    <script>\n",
              "      const buttonEl =\n",
              "        document.querySelector('#df-af503021-f1a9-42dc-942a-397e730704e4 button.colab-df-convert');\n",
              "      buttonEl.style.display =\n",
              "        google.colab.kernel.accessAllowed ? 'block' : 'none';\n",
              "\n",
              "      async function convertToInteractive(key) {\n",
              "        const element = document.querySelector('#df-af503021-f1a9-42dc-942a-397e730704e4');\n",
              "        const dataTable =\n",
              "          await google.colab.kernel.invokeFunction('convertToInteractive',\n",
              "                                                    [key], {});\n",
              "        if (!dataTable) return;\n",
              "\n",
              "        const docLinkHtml = 'Like what you see? Visit the ' +\n",
              "          '<a target=\"_blank\" href=https://colab.research.google.com/notebooks/data_table.ipynb>data table notebook</a>'\n",
              "          + ' to learn more about interactive tables.';\n",
              "        element.innerHTML = '';\n",
              "        dataTable['output_type'] = 'display_data';\n",
              "        await google.colab.output.renderOutput(dataTable, element);\n",
              "        const docLink = document.createElement('div');\n",
              "        docLink.innerHTML = docLinkHtml;\n",
              "        element.appendChild(docLink);\n",
              "      }\n",
              "    </script>\n",
              "  </div>\n",
              "\n",
              "\n",
              "<div id=\"df-b72cbbb1-43d1-47f5-86ea-ee19a8b48c1d\">\n",
              "  <button class=\"colab-df-quickchart\" onclick=\"quickchart('df-b72cbbb1-43d1-47f5-86ea-ee19a8b48c1d')\"\n",
              "            title=\"Suggest charts\"\n",
              "            style=\"display:none;\">\n",
              "\n",
              "<svg xmlns=\"http://www.w3.org/2000/svg\" height=\"24px\"viewBox=\"0 0 24 24\"\n",
              "     width=\"24px\">\n",
              "    <g>\n",
              "        <path d=\"M19 3H5c-1.1 0-2 .9-2 2v14c0 1.1.9 2 2 2h14c1.1 0 2-.9 2-2V5c0-1.1-.9-2-2-2zM9 17H7v-7h2v7zm4 0h-2V7h2v10zm4 0h-2v-4h2v4z\"/>\n",
              "    </g>\n",
              "</svg>\n",
              "  </button>\n",
              "\n",
              "<style>\n",
              "  .colab-df-quickchart {\n",
              "      --bg-color: #E8F0FE;\n",
              "      --fill-color: #1967D2;\n",
              "      --hover-bg-color: #E2EBFA;\n",
              "      --hover-fill-color: #174EA6;\n",
              "      --disabled-fill-color: #AAA;\n",
              "      --disabled-bg-color: #DDD;\n",
              "  }\n",
              "\n",
              "  [theme=dark] .colab-df-quickchart {\n",
              "      --bg-color: #3B4455;\n",
              "      --fill-color: #D2E3FC;\n",
              "      --hover-bg-color: #434B5C;\n",
              "      --hover-fill-color: #FFFFFF;\n",
              "      --disabled-bg-color: #3B4455;\n",
              "      --disabled-fill-color: #666;\n",
              "  }\n",
              "\n",
              "  .colab-df-quickchart {\n",
              "    background-color: var(--bg-color);\n",
              "    border: none;\n",
              "    border-radius: 50%;\n",
              "    cursor: pointer;\n",
              "    display: none;\n",
              "    fill: var(--fill-color);\n",
              "    height: 32px;\n",
              "    padding: 0;\n",
              "    width: 32px;\n",
              "  }\n",
              "\n",
              "  .colab-df-quickchart:hover {\n",
              "    background-color: var(--hover-bg-color);\n",
              "    box-shadow: 0 1px 2px rgba(60, 64, 67, 0.3), 0 1px 3px 1px rgba(60, 64, 67, 0.15);\n",
              "    fill: var(--button-hover-fill-color);\n",
              "  }\n",
              "\n",
              "  .colab-df-quickchart-complete:disabled,\n",
              "  .colab-df-quickchart-complete:disabled:hover {\n",
              "    background-color: var(--disabled-bg-color);\n",
              "    fill: var(--disabled-fill-color);\n",
              "    box-shadow: none;\n",
              "  }\n",
              "\n",
              "  .colab-df-spinner {\n",
              "    border: 2px solid var(--fill-color);\n",
              "    border-color: transparent;\n",
              "    border-bottom-color: var(--fill-color);\n",
              "    animation:\n",
              "      spin 1s steps(1) infinite;\n",
              "  }\n",
              "\n",
              "  @keyframes spin {\n",
              "    0% {\n",
              "      border-color: transparent;\n",
              "      border-bottom-color: var(--fill-color);\n",
              "      border-left-color: var(--fill-color);\n",
              "    }\n",
              "    20% {\n",
              "      border-color: transparent;\n",
              "      border-left-color: var(--fill-color);\n",
              "      border-top-color: var(--fill-color);\n",
              "    }\n",
              "    30% {\n",
              "      border-color: transparent;\n",
              "      border-left-color: var(--fill-color);\n",
              "      border-top-color: var(--fill-color);\n",
              "      border-right-color: var(--fill-color);\n",
              "    }\n",
              "    40% {\n",
              "      border-color: transparent;\n",
              "      border-right-color: var(--fill-color);\n",
              "      border-top-color: var(--fill-color);\n",
              "    }\n",
              "    60% {\n",
              "      border-color: transparent;\n",
              "      border-right-color: var(--fill-color);\n",
              "    }\n",
              "    80% {\n",
              "      border-color: transparent;\n",
              "      border-right-color: var(--fill-color);\n",
              "      border-bottom-color: var(--fill-color);\n",
              "    }\n",
              "    90% {\n",
              "      border-color: transparent;\n",
              "      border-bottom-color: var(--fill-color);\n",
              "    }\n",
              "  }\n",
              "</style>\n",
              "\n",
              "  <script>\n",
              "    async function quickchart(key) {\n",
              "      const quickchartButtonEl =\n",
              "        document.querySelector('#' + key + ' button');\n",
              "      quickchartButtonEl.disabled = true;  // To prevent multiple clicks.\n",
              "      quickchartButtonEl.classList.add('colab-df-spinner');\n",
              "      try {\n",
              "        const charts = await google.colab.kernel.invokeFunction(\n",
              "            'suggestCharts', [key], {});\n",
              "      } catch (error) {\n",
              "        console.error('Error during call to suggestCharts:', error);\n",
              "      }\n",
              "      quickchartButtonEl.classList.remove('colab-df-spinner');\n",
              "      quickchartButtonEl.classList.add('colab-df-quickchart-complete');\n",
              "    }\n",
              "    (() => {\n",
              "      let quickchartButtonEl =\n",
              "        document.querySelector('#df-b72cbbb1-43d1-47f5-86ea-ee19a8b48c1d button');\n",
              "      quickchartButtonEl.style.display =\n",
              "        google.colab.kernel.accessAllowed ? 'block' : 'none';\n",
              "    })();\n",
              "  </script>\n",
              "</div>\n",
              "    </div>\n",
              "  </div>\n"
            ],
            "application/vnd.google.colaboratory.intrinsic+json": {
              "type": "dataframe",
              "variable_name": "user_meta_mat"
            }
          },
          "metadata": {},
          "execution_count": 31
        }
      ]
    },
    {
      "cell_type": "code",
      "source": [
        "user_meta_mat.shape"
      ],
      "metadata": {
        "colab": {
          "base_uri": "https://localhost:8080/"
        },
        "id": "HpC48zCp0SCB",
        "outputId": "80f5a7c2-729f-4c5c-a972-0b761948c04b"
      },
      "execution_count": null,
      "outputs": [
        {
          "output_type": "execute_result",
          "data": {
            "text/plain": [
              "(570431, 3)"
            ]
          },
          "metadata": {},
          "execution_count": 32
        }
      ]
    },
    {
      "cell_type": "markdown",
      "source": [
        "## **Recommendation Model**"
      ],
      "metadata": {
        "id": "EjEhA7wT4xIK"
      }
    },
    {
      "cell_type": "code",
      "source": [
        "!pip install scikit-surprise"
      ],
      "metadata": {
        "colab": {
          "base_uri": "https://localhost:8080/"
        },
        "id": "GppMn7aXEU_l",
        "outputId": "4b49164a-3f53-4f91-87e6-e4e07a9835b0"
      },
      "execution_count": null,
      "outputs": [
        {
          "output_type": "stream",
          "name": "stdout",
          "text": [
            "Collecting scikit-surprise\n",
            "  Downloading scikit-surprise-1.1.3.tar.gz (771 kB)\n",
            "\u001b[?25l     \u001b[90m━━━━━━━━━━━━━━━━━━━━━━━━━━━━━━━━━━━━━━━━\u001b[0m \u001b[32m0.0/772.0 kB\u001b[0m \u001b[31m?\u001b[0m eta \u001b[36m-:--:--\u001b[0m\r\u001b[2K     \u001b[91m━━━━━━━━━━━\u001b[0m\u001b[91m╸\u001b[0m\u001b[90m━━━━━━━━━━━━━━━━━━━━━━━━━━━━\u001b[0m \u001b[32m225.3/772.0 kB\u001b[0m \u001b[31m6.7 MB/s\u001b[0m eta \u001b[36m0:00:01\u001b[0m\r\u001b[2K     \u001b[90m━━━━━━━━━━━━━━━━━━━━━━━━━━━━━━━━━━━━━━━━\u001b[0m \u001b[32m772.0/772.0 kB\u001b[0m \u001b[31m13.4 MB/s\u001b[0m eta \u001b[36m0:00:00\u001b[0m\n",
            "\u001b[?25h  Preparing metadata (setup.py) ... \u001b[?25l\u001b[?25hdone\n",
            "Requirement already satisfied: joblib>=1.0.0 in /usr/local/lib/python3.10/dist-packages (from scikit-surprise) (1.3.2)\n",
            "Requirement already satisfied: numpy>=1.17.3 in /usr/local/lib/python3.10/dist-packages (from scikit-surprise) (1.25.2)\n",
            "Requirement already satisfied: scipy>=1.3.2 in /usr/local/lib/python3.10/dist-packages (from scikit-surprise) (1.11.4)\n",
            "Building wheels for collected packages: scikit-surprise\n",
            "  Building wheel for scikit-surprise (setup.py) ... \u001b[?25l\u001b[?25hdone\n",
            "  Created wheel for scikit-surprise: filename=scikit_surprise-1.1.3-cp310-cp310-linux_x86_64.whl size=3163006 sha256=689523c5568864b0222900405681d1d389f7b57497fa1b99a7eefc3c40ef1510\n",
            "  Stored in directory: /root/.cache/pip/wheels/a5/ca/a8/4e28def53797fdc4363ca4af740db15a9c2f1595ebc51fb445\n",
            "Successfully built scikit-surprise\n",
            "Installing collected packages: scikit-surprise\n",
            "Successfully installed scikit-surprise-1.1.3\n"
          ]
        }
      ]
    },
    {
      "cell_type": "code",
      "source": [
        "from surprise import Dataset, Reader, SVD\n",
        "from surprise.model_selection import train_test_split\n",
        "from surprise import accuracy"
      ],
      "metadata": {
        "id": "D20VeLFhGTz8"
      },
      "execution_count": null,
      "outputs": []
    },
    {
      "cell_type": "markdown",
      "source": [
        "> **Applying the SVD model using surprise library and predict the ratings.**"
      ],
      "metadata": {
        "id": "zN5Txb7m28Mx"
      }
    },
    {
      "cell_type": "code",
      "source": [
        "# Create a reader object specifying the rating scale\n",
        "reader = Reader(rating_scale=(1, 5))\n",
        "\n",
        "# Load the user-item matrix into the Surprise Dataset format\n",
        "data = Dataset.load_from_df(user_meta_mat, reader)\n",
        "\n",
        "# Split the dataset into train and test sets\n",
        "trainset, testset = train_test_split(data, test_size=0.2)\n",
        "\n",
        "# Choose the SVD model\n",
        "model = SVD()\n",
        "\n",
        "# Train the model on the trainset\n",
        "model.fit(trainset)"
      ],
      "metadata": {
        "id": "Sf8kM8NUGTyE",
        "colab": {
          "base_uri": "https://localhost:8080/"
        },
        "outputId": "e4a1610a-0c96-4949-af29-0f52b0cd27e8"
      },
      "execution_count": null,
      "outputs": [
        {
          "output_type": "execute_result",
          "data": {
            "text/plain": [
              "<surprise.prediction_algorithms.matrix_factorization.SVD at 0x7d371d2f8a00>"
            ]
          },
          "metadata": {},
          "execution_count": 56
        }
      ]
    },
    {
      "cell_type": "code",
      "source": [
        "# Make predictions on the testset\n",
        "predictions = model.test(testset)"
      ],
      "metadata": {
        "id": "obpvd03UyANz"
      },
      "execution_count": null,
      "outputs": []
    },
    {
      "cell_type": "markdown",
      "source": [
        "> **Measuring the accuracy on test dataset.**"
      ],
      "metadata": {
        "id": "xUopkKX24c9g"
      }
    },
    {
      "cell_type": "code",
      "source": [
        "print(\"RMSE: \", accuracy.rmse(predictions))\n",
        "print(\"MAE: \", accuracy.mae(predictions))"
      ],
      "metadata": {
        "colab": {
          "base_uri": "https://localhost:8080/"
        },
        "id": "Ol5HKGf5yDcE",
        "outputId": "b6844419-84bb-4286-e6df-7512cbd5fc34"
      },
      "execution_count": null,
      "outputs": [
        {
          "output_type": "stream",
          "name": "stdout",
          "text": [
            "RMSE: 0.9204\n",
            "RMSE:  0.9204258342886501\n",
            "MAE:  0.6591\n",
            "MAE:  0.6590567410368855\n"
          ]
        }
      ]
    },
    {
      "cell_type": "code",
      "source": [
        "user_id = 108988419397291213849\n",
        "top_N = 10\n",
        "\n",
        "recommendations = []\n",
        "\n",
        "gmap_ids = list(user_meta_mat['gmap_id'].unique())\n",
        "\n",
        "for gmap_id in gmap_ids:\n",
        "  predicted_rating = model.predict(str(user_id), str(gmap_id)).est\n",
        "  recommendations.append((gmap_id, predicted_rating))\n",
        "\n",
        "# Sort recommendations by predicted rating\n",
        "recommendations.sort(key=lambda x: x[1], reverse=True)\n",
        "\n",
        "# Display top-N recommended movies\n",
        "top_n_recommendations = recommendations[:top_N]\n",
        "\n",
        "print(\"Recommendations for User are as follow: \".format(top_N))\n",
        "print(70*\"-\")\n",
        "for items in top_n_recommendations:\n",
        "  gmap_id, pred_rating = items\n",
        "  print(\"Name: \", meta_df[meta_df['gmap_id'] == gmap_id]['name'])\n",
        "  print(\"Address: \", meta_df[meta_df['gmap_id'] == gmap_id]['address'])\n",
        "  print(\"Description: \", meta_df[meta_df['gmap_id'] == gmap_id]['description'])\n",
        "  print(\"Latitude: \", meta_df[meta_df['gmap_id'] == gmap_id]['latitude'])\n",
        "  print(\"Longitude: \", meta_df[meta_df['gmap_id'] == gmap_id]['longitude'])\n",
        "  print(\"Opening hours: \", meta_df[meta_df['gmap_id'] == gmap_id]['hours'])\n",
        "\n",
        "  print(70*\"-\")\n"
      ],
      "metadata": {
        "colab": {
          "base_uri": "https://localhost:8080/"
        },
        "id": "P99liikWyRO3",
        "outputId": "2c4dbe07-46da-4a24-8cc1-eb52211d13ab"
      },
      "execution_count": null,
      "outputs": [
        {
          "output_type": "stream",
          "name": "stdout",
          "text": [
            "Recommendations for User are as follow: \n",
            "----------------------------------------------------------------------\n",
            "Name:  3180    Legacy Plumbing, LLC\n",
            "Name: name, dtype: object\n",
            "Address:  3180    Legacy Plumbing, LLC, 3955 40th Ave S suite A,...\n",
            "Name: address, dtype: object\n",
            "Description:  3180    None\n",
            "Name: description, dtype: object\n",
            "Latitude:  3180    46.818668\n",
            "Name: latitude, dtype: float64\n",
            "Longitude:  3180   -96.84529\n",
            "Name: longitude, dtype: float64\n",
            "Opening hours:  3180    [[Friday, Open 24 hours], [Saturday, Open 24 h...\n",
            "Name: hours, dtype: object\n",
            "----------------------------------------------------------------------\n",
            "Name:  5302    Capital Heights Auto Clinic & Mr Lubester\n",
            "Name: name, dtype: object\n",
            "Address:  5302    Capital Heights Auto Clinic & Mr Lubester, 142...\n",
            "Name: address, dtype: object\n",
            "Description:  5302    None\n",
            "Name: description, dtype: object\n",
            "Latitude:  5302    46.834808\n",
            "Name: latitude, dtype: float64\n",
            "Longitude:  5302   -100.768776\n",
            "Name: longitude, dtype: float64\n",
            "Opening hours:  5302    [[Saturday, 8AM–2PM], [Sunday, Closed], [Monda...\n",
            "Name: hours, dtype: object\n",
            "----------------------------------------------------------------------\n",
            "Name:  9018    Fargo Escape Room\n",
            "Name: name, dtype: object\n",
            "Address:  9018    Fargo Escape Room, 2220 Main Ave E, West Fargo...\n",
            "Name: address, dtype: object\n",
            "Description:  9018    None\n",
            "Name: description, dtype: object\n",
            "Latitude:  9018    46.877403\n",
            "Name: latitude, dtype: float64\n",
            "Longitude:  9018   -96.863928\n",
            "Name: longitude, dtype: float64\n",
            "Opening hours:  9018    [[Thursday, 5:30–9PM], [Friday, 5:30–9PM], [Sa...\n",
            "Name: hours, dtype: object\n",
            "----------------------------------------------------------------------\n",
            "Name:  9772    Curaleaf Minot\n",
            "Name: name, dtype: object\n",
            "Address:  9772    Curaleaf Minot, 2301 16th St SW, Minot, ND 58701\n",
            "Name: address, dtype: object\n",
            "Description:  9772    None\n",
            "Name: description, dtype: object\n",
            "Latitude:  9772    48.208797\n",
            "Name: latitude, dtype: float64\n",
            "Longitude:  9772   -101.316962\n",
            "Name: longitude, dtype: float64\n",
            "Opening hours:  9772    [[Friday, 10AM–7PM], [Saturday, 10AM–7PM], [Su...\n",
            "Name: hours, dtype: object\n",
            "----------------------------------------------------------------------\n",
            "Name:  4341    Flatland Guitar and Lutherie, LLC\n",
            "Name: name, dtype: object\n",
            "Address:  4341    Flatland Guitar and Lutherie, LLC, 1450 S. 25t...\n",
            "Name: address, dtype: object\n",
            "Description:  4341    None\n",
            "Name: description, dtype: object\n",
            "Latitude:  4341    46.859459\n",
            "Name: latitude, dtype: float64\n",
            "Longitude:  4341   -96.818751\n",
            "Name: longitude, dtype: float64\n",
            "Opening hours:  4341    [[Sunday, Closed], [Monday, 10AM–6PM], [Tuesda...\n",
            "Name: hours, dtype: object\n",
            "----------------------------------------------------------------------\n",
            "Name:  8901    46 & 2 Tattoo\n",
            "Name: name, dtype: object\n",
            "Address:  8901    46 & 2 Tattoo, 308 N University Dr, Fargo, ND ...\n",
            "Name: address, dtype: object\n",
            "Description:  8901    None\n",
            "Name: description, dtype: object\n",
            "Latitude:  8901    46.879821\n",
            "Name: latitude, dtype: float64\n",
            "Longitude:  8901   -96.798455\n",
            "Name: longitude, dtype: float64\n",
            "Opening hours:  8901    [[Thursday, 12–7PM], [Friday, 12–7PM], [Saturd...\n",
            "Name: hours, dtype: object\n",
            "----------------------------------------------------------------------\n",
            "Name:  8779    Butcher Block Meats\n",
            "Name: name, dtype: object\n",
            "Address:  8779    Butcher Block Meats, 108 W Main St, Mandan, ND...\n",
            "Name: address, dtype: object\n",
            "Description:  8779    None\n",
            "Name: description, dtype: object\n",
            "Latitude:  8779    46.826552\n",
            "Name: latitude, dtype: float64\n",
            "Longitude:  8779   -100.890373\n",
            "Name: longitude, dtype: float64\n",
            "Opening hours:  8779    [[Friday, 7:30AM–6PM], [Saturday, 7:30AM–6PM],...\n",
            "Name: hours, dtype: object\n",
            "----------------------------------------------------------------------\n",
            "Name:  1705    Venture Chiropractic\n",
            "Name: name, dtype: object\n",
            "Address:  1705    Venture Chiropractic, 3252 51st St S Ste A, Fa...\n",
            "Name: address, dtype: object\n",
            "Description:  1705    None\n",
            "Name: description, dtype: object\n",
            "Latitude:  1705    46.830639\n",
            "Name: latitude, dtype: float64\n",
            "Longitude:  1705   -96.873421\n",
            "Name: longitude, dtype: float64\n",
            "Opening hours:  1705    [[Monday, 9AM–6PM], [Tuesday, 9AM–7PM], [Wedne...\n",
            "Name: hours, dtype: object\n",
            "----------------------------------------------------------------------\n",
            "Name:  5665    Garrison Veterinary Services\n",
            "Name: name, dtype: object\n",
            "Address:  5665    Garrison Veterinary Services, 109 4th St SW, G...\n",
            "Name: address, dtype: object\n",
            "Description:  5665    None\n",
            "Name: description, dtype: object\n",
            "Latitude:  5665    47.649788\n",
            "Name: latitude, dtype: float64\n",
            "Longitude:  5665   -101.423729\n",
            "Name: longitude, dtype: float64\n",
            "Opening hours:  5665    None\n",
            "Name: hours, dtype: object\n",
            "----------------------------------------------------------------------\n",
            "Name:  3719    Midwest Aquarium Services\n",
            "Name: name, dtype: object\n",
            "Address:  3719    Midwest Aquarium Services, 745 45th St S, Farg...\n",
            "Name: address, dtype: object\n",
            "Description:  3719    None\n",
            "Name: description, dtype: object\n",
            "Latitude:  3719    46.86838\n",
            "Name: latitude, dtype: float64\n",
            "Longitude:  3719   -96.863332\n",
            "Name: longitude, dtype: float64\n",
            "Opening hours:  3719    [[Saturday, 12–5PM], [Sunday, Closed], [Monday...\n",
            "Name: hours, dtype: object\n",
            "----------------------------------------------------------------------\n"
          ]
        }
      ]
    }
  ]
}