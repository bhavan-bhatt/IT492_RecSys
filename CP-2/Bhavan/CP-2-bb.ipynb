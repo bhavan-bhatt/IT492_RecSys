{
 "cells": [
  {
   "cell_type": "code",
   "execution_count": 1,
   "metadata": {},
   "outputs": [
    {
     "name": "stderr",
     "output_type": "stream",
     "text": [
      "[nltk_data] Downloading package punkt to\n",
      "[nltk_data]     /Users/bhavanbhatt/nltk_data...\n",
      "[nltk_data]   Package punkt is already up-to-date!\n",
      "[nltk_data] Downloading package stopwords to\n",
      "[nltk_data]     /Users/bhavanbhatt/nltk_data...\n",
      "[nltk_data]   Package stopwords is already up-to-date!\n",
      "[nltk_data] Downloading package averaged_perceptron_tagger to\n",
      "[nltk_data]     /Users/bhavanbhatt/nltk_data...\n",
      "[nltk_data]   Package averaged_perceptron_tagger is already up-to-\n",
      "[nltk_data]       date!\n"
     ]
    },
    {
     "data": {
      "text/plain": [
       "True"
      ]
     },
     "execution_count": 1,
     "metadata": {},
     "output_type": "execute_result"
    }
   ],
   "source": [
    "import pandas as pd\n",
    "from bs4 import BeautifulSoup\n",
    "import re\n",
    "import nltk\n",
    "from nltk.tokenize import word_tokenize\n",
    "from nltk import pos_tag\n",
    "from collections import Counter\n",
    "from nltk.corpus import stopwords\n",
    "from wordcloud import WordCloud\n",
    "import matplotlib.pyplot as plt\n",
    "nltk.download('punkt')\n",
    "nltk.download('stopwords')\n",
    "nltk.download('averaged_perceptron_tagger')"
   ]
  },
  {
   "cell_type": "code",
   "execution_count": 2,
   "metadata": {},
   "outputs": [],
   "source": [
    "data_meta = pd.read_json('Data/meta-North_Dakota.json',lines=True)\n",
    "data_reviews = pd.read_json('Data/review-North_Dakota.json', lines=True)"
   ]
  },
  {
   "cell_type": "code",
   "execution_count": 3,
   "metadata": {},
   "outputs": [
    {
     "data": {
      "text/html": [
       "<div>\n",
       "<style scoped>\n",
       "    .dataframe tbody tr th:only-of-type {\n",
       "        vertical-align: middle;\n",
       "    }\n",
       "\n",
       "    .dataframe tbody tr th {\n",
       "        vertical-align: top;\n",
       "    }\n",
       "\n",
       "    .dataframe thead th {\n",
       "        text-align: right;\n",
       "    }\n",
       "</style>\n",
       "<table border=\"1\" class=\"dataframe\">\n",
       "  <thead>\n",
       "    <tr style=\"text-align: right;\">\n",
       "      <th></th>\n",
       "      <th>name</th>\n",
       "      <th>address</th>\n",
       "      <th>gmap_id</th>\n",
       "      <th>description</th>\n",
       "      <th>latitude</th>\n",
       "      <th>longitude</th>\n",
       "      <th>category</th>\n",
       "      <th>avg_rating</th>\n",
       "      <th>num_of_reviews</th>\n",
       "      <th>price</th>\n",
       "      <th>hours</th>\n",
       "      <th>MISC</th>\n",
       "      <th>state</th>\n",
       "      <th>relative_results</th>\n",
       "      <th>url</th>\n",
       "    </tr>\n",
       "  </thead>\n",
       "  <tbody>\n",
       "    <tr>\n",
       "      <th>0</th>\n",
       "      <td>St Peter &amp; Paul Church</td>\n",
       "      <td>St Peter &amp; Paul Church, 500 Main St, Karlsruhe...</td>\n",
       "      <td>0x52d94fbefa0e6353:0xf709e2d8674fe3a</td>\n",
       "      <td>None</td>\n",
       "      <td>48.093248</td>\n",
       "      <td>-100.618664</td>\n",
       "      <td>[Catholic church]</td>\n",
       "      <td>4.9</td>\n",
       "      <td>7</td>\n",
       "      <td>None</td>\n",
       "      <td>None</td>\n",
       "      <td>{'Accessibility': ['Wheelchair accessible entr...</td>\n",
       "      <td>None</td>\n",
       "      <td>[0x52d9384b75abac93:0x13526f8266cae6cf, 0x52d9...</td>\n",
       "      <td>https://www.google.com/maps/place//data=!4m2!3...</td>\n",
       "    </tr>\n",
       "    <tr>\n",
       "      <th>1</th>\n",
       "      <td>Northwest Martial Arts Academy</td>\n",
       "      <td>Northwest Martial Arts Academy, 1430 Main Ave,...</td>\n",
       "      <td>0x52c8cbe775edec7d:0xb46e15ed33643070</td>\n",
       "      <td>None</td>\n",
       "      <td>46.875093</td>\n",
       "      <td>-96.802717</td>\n",
       "      <td>[Martial arts school]</td>\n",
       "      <td>5.0</td>\n",
       "      <td>8</td>\n",
       "      <td>None</td>\n",
       "      <td>[[Thursday, 7:30AM–8PM], [Friday, 7:30AM–8PM],...</td>\n",
       "      <td>{'Accessibility': ['Wheelchair accessible entr...</td>\n",
       "      <td>Closed ⋅ Opens 7:30AM</td>\n",
       "      <td>[0x52c8ccbcb1785327:0x2d50311eabd7afc, 0x52cf3...</td>\n",
       "      <td>https://www.google.com/maps/place//data=!4m2!3...</td>\n",
       "    </tr>\n",
       "    <tr>\n",
       "      <th>2</th>\n",
       "      <td>Thad's Amazing Magic - Fargo Birthday Party Magic</td>\n",
       "      <td>Thad's Amazing Magic - Fargo Birthday Party Ma...</td>\n",
       "      <td>0x52c8cd270f50bbbb:0x4ee4629598a8090e</td>\n",
       "      <td>None</td>\n",
       "      <td>46.812415</td>\n",
       "      <td>-96.856729</td>\n",
       "      <td>[Magician, Children's party service]</td>\n",
       "      <td>5.0</td>\n",
       "      <td>58</td>\n",
       "      <td>None</td>\n",
       "      <td>[[Thursday, Open 24 hours], [Friday, Open 24 h...</td>\n",
       "      <td>{'Amenities': ['Good for kids']}</td>\n",
       "      <td>Open 24 hours</td>\n",
       "      <td>[0x52c8c9613725e9ef:0xc628b86d8593e7e6, 0x52c8...</td>\n",
       "      <td>https://www.google.com/maps/place//data=!4m2!3...</td>\n",
       "    </tr>\n",
       "    <tr>\n",
       "      <th>3</th>\n",
       "      <td>Threefold</td>\n",
       "      <td>Threefold, 212 W Main Ave, Bismarck, ND 58501</td>\n",
       "      <td>0x52d7836b7314da5d:0xc3cc63667b8c13a0</td>\n",
       "      <td>None</td>\n",
       "      <td>46.805707</td>\n",
       "      <td>-100.792990</td>\n",
       "      <td>[Film production company, Video editing servic...</td>\n",
       "      <td>5.0</td>\n",
       "      <td>5</td>\n",
       "      <td>None</td>\n",
       "      <td>[[Wednesday, 9AM–6PM], [Thursday, 9AM–6PM], [F...</td>\n",
       "      <td>None</td>\n",
       "      <td>Closed ⋅ Opens 9AM Thu</td>\n",
       "      <td>[0x52d7836c2b519b77:0x74c84187e38f42b, 0x52d78...</td>\n",
       "      <td>https://www.google.com/maps/place//data=!4m2!3...</td>\n",
       "    </tr>\n",
       "    <tr>\n",
       "      <th>4</th>\n",
       "      <td>Gray Brothers Dairy</td>\n",
       "      <td>Gray Brothers Dairy, 408 N Main St, Stanley, N...</td>\n",
       "      <td>0x5320bcc09c8e6f15:0xc888ebee3ea483b6</td>\n",
       "      <td>None</td>\n",
       "      <td>48.324312</td>\n",
       "      <td>-102.390000</td>\n",
       "      <td>None</td>\n",
       "      <td>5.0</td>\n",
       "      <td>1</td>\n",
       "      <td>None</td>\n",
       "      <td>None</td>\n",
       "      <td>None</td>\n",
       "      <td>None</td>\n",
       "      <td>[0x5320bcc63e8fe69d:0x4f22ad0dd39b1970, 0x5320...</td>\n",
       "      <td>https://www.google.com/maps/place//data=!4m2!3...</td>\n",
       "    </tr>\n",
       "  </tbody>\n",
       "</table>\n",
       "</div>"
      ],
      "text/plain": [
       "                                                name  \\\n",
       "0                             St Peter & Paul Church   \n",
       "1                     Northwest Martial Arts Academy   \n",
       "2  Thad's Amazing Magic - Fargo Birthday Party Magic   \n",
       "3                                          Threefold   \n",
       "4                                Gray Brothers Dairy   \n",
       "\n",
       "                                             address  \\\n",
       "0  St Peter & Paul Church, 500 Main St, Karlsruhe...   \n",
       "1  Northwest Martial Arts Academy, 1430 Main Ave,...   \n",
       "2  Thad's Amazing Magic - Fargo Birthday Party Ma...   \n",
       "3      Threefold, 212 W Main Ave, Bismarck, ND 58501   \n",
       "4  Gray Brothers Dairy, 408 N Main St, Stanley, N...   \n",
       "\n",
       "                                 gmap_id description   latitude   longitude  \\\n",
       "0   0x52d94fbefa0e6353:0xf709e2d8674fe3a        None  48.093248 -100.618664   \n",
       "1  0x52c8cbe775edec7d:0xb46e15ed33643070        None  46.875093  -96.802717   \n",
       "2  0x52c8cd270f50bbbb:0x4ee4629598a8090e        None  46.812415  -96.856729   \n",
       "3  0x52d7836b7314da5d:0xc3cc63667b8c13a0        None  46.805707 -100.792990   \n",
       "4  0x5320bcc09c8e6f15:0xc888ebee3ea483b6        None  48.324312 -102.390000   \n",
       "\n",
       "                                            category  avg_rating  \\\n",
       "0                                  [Catholic church]         4.9   \n",
       "1                              [Martial arts school]         5.0   \n",
       "2               [Magician, Children's party service]         5.0   \n",
       "3  [Film production company, Video editing servic...         5.0   \n",
       "4                                               None         5.0   \n",
       "\n",
       "   num_of_reviews price                                              hours  \\\n",
       "0               7  None                                               None   \n",
       "1               8  None  [[Thursday, 7:30AM–8PM], [Friday, 7:30AM–8PM],...   \n",
       "2              58  None  [[Thursday, Open 24 hours], [Friday, Open 24 h...   \n",
       "3               5  None  [[Wednesday, 9AM–6PM], [Thursday, 9AM–6PM], [F...   \n",
       "4               1  None                                               None   \n",
       "\n",
       "                                                MISC                   state  \\\n",
       "0  {'Accessibility': ['Wheelchair accessible entr...                    None   \n",
       "1  {'Accessibility': ['Wheelchair accessible entr...   Closed ⋅ Opens 7:30AM   \n",
       "2                   {'Amenities': ['Good for kids']}           Open 24 hours   \n",
       "3                                               None  Closed ⋅ Opens 9AM Thu   \n",
       "4                                               None                    None   \n",
       "\n",
       "                                    relative_results  \\\n",
       "0  [0x52d9384b75abac93:0x13526f8266cae6cf, 0x52d9...   \n",
       "1  [0x52c8ccbcb1785327:0x2d50311eabd7afc, 0x52cf3...   \n",
       "2  [0x52c8c9613725e9ef:0xc628b86d8593e7e6, 0x52c8...   \n",
       "3  [0x52d7836c2b519b77:0x74c84187e38f42b, 0x52d78...   \n",
       "4  [0x5320bcc63e8fe69d:0x4f22ad0dd39b1970, 0x5320...   \n",
       "\n",
       "                                                 url  \n",
       "0  https://www.google.com/maps/place//data=!4m2!3...  \n",
       "1  https://www.google.com/maps/place//data=!4m2!3...  \n",
       "2  https://www.google.com/maps/place//data=!4m2!3...  \n",
       "3  https://www.google.com/maps/place//data=!4m2!3...  \n",
       "4  https://www.google.com/maps/place//data=!4m2!3...  "
      ]
     },
     "execution_count": 3,
     "metadata": {},
     "output_type": "execute_result"
    }
   ],
   "source": [
    "data_meta.head()"
   ]
  },
  {
   "cell_type": "code",
   "execution_count": 4,
   "metadata": {},
   "outputs": [
    {
     "data": {
      "text/html": [
       "<div>\n",
       "<style scoped>\n",
       "    .dataframe tbody tr th:only-of-type {\n",
       "        vertical-align: middle;\n",
       "    }\n",
       "\n",
       "    .dataframe tbody tr th {\n",
       "        vertical-align: top;\n",
       "    }\n",
       "\n",
       "    .dataframe thead th {\n",
       "        text-align: right;\n",
       "    }\n",
       "</style>\n",
       "<table border=\"1\" class=\"dataframe\">\n",
       "  <thead>\n",
       "    <tr style=\"text-align: right;\">\n",
       "      <th></th>\n",
       "      <th>user_id</th>\n",
       "      <th>name</th>\n",
       "      <th>time</th>\n",
       "      <th>rating</th>\n",
       "      <th>text</th>\n",
       "      <th>pics</th>\n",
       "      <th>resp</th>\n",
       "      <th>gmap_id</th>\n",
       "    </tr>\n",
       "  </thead>\n",
       "  <tbody>\n",
       "    <tr>\n",
       "      <th>0</th>\n",
       "      <td>1.088493e+20</td>\n",
       "      <td>أحمد آل إبراهيم</td>\n",
       "      <td>1600517759614</td>\n",
       "      <td>5.0</td>\n",
       "      <td>I want to join Catholic Christ.</td>\n",
       "      <td>None</td>\n",
       "      <td>None</td>\n",
       "      <td>0x52d94fbefa0e6353:0xf709e2d8674fe3a</td>\n",
       "    </tr>\n",
       "    <tr>\n",
       "      <th>1</th>\n",
       "      <td>1.137480e+20</td>\n",
       "      <td>John OpenMinded</td>\n",
       "      <td>1594757122443</td>\n",
       "      <td>5.0</td>\n",
       "      <td>Its Catholic and devout. What more do you need?</td>\n",
       "      <td>None</td>\n",
       "      <td>None</td>\n",
       "      <td>0x52d94fbefa0e6353:0xf709e2d8674fe3a</td>\n",
       "    </tr>\n",
       "    <tr>\n",
       "      <th>2</th>\n",
       "      <td>1.089884e+20</td>\n",
       "      <td>Juergen Wolf</td>\n",
       "      <td>1574580027389</td>\n",
       "      <td>5.0</td>\n",
       "      <td>This was my Church in Karlsruhe. However in Ka...</td>\n",
       "      <td>None</td>\n",
       "      <td>None</td>\n",
       "      <td>0x52d94fbefa0e6353:0xf709e2d8674fe3a</td>\n",
       "    </tr>\n",
       "    <tr>\n",
       "      <th>3</th>\n",
       "      <td>1.094611e+20</td>\n",
       "      <td>Jamie Lee</td>\n",
       "      <td>1572608951549</td>\n",
       "      <td>4.0</td>\n",
       "      <td>Go with god</td>\n",
       "      <td>None</td>\n",
       "      <td>None</td>\n",
       "      <td>0x52d94fbefa0e6353:0xf709e2d8674fe3a</td>\n",
       "    </tr>\n",
       "    <tr>\n",
       "      <th>4</th>\n",
       "      <td>1.177488e+20</td>\n",
       "      <td>lucas03</td>\n",
       "      <td>1604339936721</td>\n",
       "      <td>5.0</td>\n",
       "      <td>(Translated by Google) everything faker not th...</td>\n",
       "      <td>None</td>\n",
       "      <td>None</td>\n",
       "      <td>0x52d94fbefa0e6353:0xf709e2d8674fe3a</td>\n",
       "    </tr>\n",
       "  </tbody>\n",
       "</table>\n",
       "</div>"
      ],
      "text/plain": [
       "        user_id             name           time  rating  \\\n",
       "0  1.088493e+20  أحمد آل إبراهيم  1600517759614     5.0   \n",
       "1  1.137480e+20  John OpenMinded  1594757122443     5.0   \n",
       "2  1.089884e+20     Juergen Wolf  1574580027389     5.0   \n",
       "3  1.094611e+20        Jamie Lee  1572608951549     4.0   \n",
       "4  1.177488e+20          lucas03  1604339936721     5.0   \n",
       "\n",
       "                                                text  pics  resp  \\\n",
       "0                    I want to join Catholic Christ.  None  None   \n",
       "1    Its Catholic and devout. What more do you need?  None  None   \n",
       "2  This was my Church in Karlsruhe. However in Ka...  None  None   \n",
       "3                                        Go with god  None  None   \n",
       "4  (Translated by Google) everything faker not th...  None  None   \n",
       "\n",
       "                                gmap_id  \n",
       "0  0x52d94fbefa0e6353:0xf709e2d8674fe3a  \n",
       "1  0x52d94fbefa0e6353:0xf709e2d8674fe3a  \n",
       "2  0x52d94fbefa0e6353:0xf709e2d8674fe3a  \n",
       "3  0x52d94fbefa0e6353:0xf709e2d8674fe3a  \n",
       "4  0x52d94fbefa0e6353:0xf709e2d8674fe3a  "
      ]
     },
     "execution_count": 4,
     "metadata": {},
     "output_type": "execute_result"
    }
   ],
   "source": [
    "data_reviews.head()"
   ]
  },
  {
   "cell_type": "code",
   "execution_count": 5,
   "metadata": {},
   "outputs": [
    {
     "name": "stdout",
     "output_type": "stream",
     "text": [
      "(1109558, 8)\n",
      "293523\n",
      "26.45404746755014\n"
     ]
    }
   ],
   "source": [
    "print(data_reviews.shape)\n",
    "print(data_reviews['user_id'].nunique())\n",
    "print(data_reviews['user_id'].nunique()/data_reviews.shape[0]*100)"
   ]
  },
  {
   "cell_type": "code",
   "execution_count": 6,
   "metadata": {},
   "outputs": [],
   "source": [
    "def preprocess_text(text):\n",
    "    if pd.isna(text):\n",
    "        return []\n",
    "    text = text.lower()\n",
    "    text = re.sub(r'[^a-zA-Z\\s]', '', text)\n",
    "    return text\n",
    "\n",
    "data_reviews['clean_text'] = data_reviews['text'].apply(preprocess_text)"
   ]
  },
  {
   "cell_type": "code",
   "execution_count": 7,
   "metadata": {},
   "outputs": [
    {
     "data": {
      "text/plain": [
       "0                             i want to join catholic christ\n",
       "1              its catholic and devout what more do you need\n",
       "2          this was my church in karlsruhe however in kar...\n",
       "3                                                go with god\n",
       "4          translated by google everything faker not the ...\n",
       "                                 ...                        \n",
       "1109553                                                   []\n",
       "1109554                                                   []\n",
       "1109555                                                   []\n",
       "1109556                                                   []\n",
       "1109557                                                   []\n",
       "Name: clean_text, Length: 1109558, dtype: object"
      ]
     },
     "execution_count": 7,
     "metadata": {},
     "output_type": "execute_result"
    }
   ],
   "source": [
    "data_reviews['clean_text']"
   ]
  },
  {
   "cell_type": "code",
   "execution_count": 8,
   "metadata": {},
   "outputs": [
    {
     "data": {
      "image/png": "[encoded data removed]",
      "text/plain": [
       "<Figure size 1000x600 with 1 Axes>"
      ]
     },
     "metadata": {},
     "output_type": "display_data"
    }
   ],
   "source": [
    "stop_words = set(stopwords.words('english'))\n",
    "clean_descriptions = ''.join([str(i) for i in data_reviews['clean_text']])\n",
    "clean_descriptions = clean_descriptions.lower().split()\n",
    "clean_descriptions = [word for word in clean_descriptions if word not in stop_words]\n",
    "\n",
    "word_freq = Counter(clean_descriptions)\n",
    "\n",
    "common_words_df = pd.DataFrame(word_freq.most_common(20), columns=['Word', 'Frequency'])\n",
    "plt.figure(figsize=(10, 6))\n",
    "plt.barh(common_words_df['Word'], common_words_df['Frequency'], color='red')\n",
    "plt.xlabel('Frequency')\n",
    "plt.ylabel('Words')\n",
    "plt.title('Top 10 Most Common Words')\n",
    "plt.gca().invert_yaxis()\n",
    "plt.show()"
   ]
  },
  {
   "cell_type": "code",
   "execution_count": 9,
   "metadata": {},
   "outputs": [
    {
     "data": {
      "image/png": "[encoded data removed]",
      "text/plain": [
       "<Figure size 1000x600 with 1 Axes>"
      ]
     },
     "metadata": {},
     "output_type": "display_data"
    }
   ],
   "source": [
    "pos_tags = []\n",
    "for description in data_reviews['clean_text']:\n",
    "    description = re.sub(r'[^a-zA-Z\\s]', '', str(description))\n",
    "    tokens = word_tokenize(str(description))\n",
    "    pos_tags.extend(pos_tag(tokens))\n",
    "\n",
    "pos_counts = Counter(tag for word, tag in pos_tags)\n",
    "\n",
    "plt.figure(figsize=(10, 6))\n",
    "pos_df = pd.DataFrame.from_dict(pos_counts, orient='index', columns=['count'])\n",
    "pos_df = pos_df.sort_values(by='count', ascending=False)\n",
    "pos_df.plot(kind='bar', ax=plt.gca(), color='orange')\n",
    "plt.title('Distribution of Part of Speech Tags')\n",
    "plt.xlabel('Part of Speech Tag')\n",
    "plt.ylabel('Frequency')\n",
    "plt.xticks(rotation=45)\n",
    "plt.tight_layout()\n",
    "plt.show()"
   ]
  },
  {
   "cell_type": "code",
   "execution_count": 10,
   "metadata": {},
   "outputs": [],
   "source": [
    "text = ''.join([str(i) for i in data_reviews['clean_text']])\n",
    "text = text.lower()"
   ]
  },
  {
   "cell_type": "code",
   "execution_count": null,
   "metadata": {},
   "outputs": [],
   "source": [
    "wordcloud = WordCloud(width=800, height=400, background_color='white',\n",
    "                      colormap='viridis', max_words=100,\n",
    "                      contour_color='steelblue', contour_width=2).generate(text)\n",
    "\n",
    "plt.figure(figsize=(10, 5))\n",
    "plt.imshow(wordcloud, interpolation='bilinear')\n",
    "plt.axis('off')\n",
    "plt.show()"
   ]
  },
  {
   "cell_type": "code",
   "execution_count": null,
   "metadata": {},
   "outputs": [],
   "source": [
    "# import pandas as pd\n",
    "\n",
    "# # Sample DataFrame\n",
    "# data = {\n",
    "#     'text': ['text1', 'text2', 'text3', 'text4', 'text5'],\n",
    "#     'gmap_id': [1, 2, 1, 2, 1]\n",
    "# }\n",
    "\n",
    "# data_reviews = pd.DataFrame(data)\n",
    "\n",
    "# # Group by 'gmap_id' and aggregate 'text' into a list\n",
    "# grouped_data = data_reviews.groupby('gmap_id')['text'].apply(list).reset_index()\n",
    "\n",
    "# # Merge the grouped data back into the original dataframe\n",
    "# data_reviews = pd.merge(data_reviews.drop(columns=['text']), grouped_data, on='gmap_id', how='left')\n",
    "\n",
    "# # Rename the new column to 'text_list'\n",
    "# data_reviews = data_reviews.rename(columns={'text': 'text_list'})\n",
    "\n",
    "# # Drop duplicates based on 'gmap_id'\n",
    "# data_reviews = data_reviews.drop_duplicates(subset='gmap_id')\n",
    "\n",
    "# print(data_reviews)\n",
    "\n"
   ]
  },
  {
   "cell_type": "code",
   "execution_count": null,
   "metadata": {},
   "outputs": [],
   "source": []
  },
  {
   "cell_type": "code",
   "execution_count": null,
   "metadata": {},
   "outputs": [],
   "source": []
  }
 ],
 "metadata": {
  "colab": {
   "collapsed_sections": [],
   "name": "Final_project_DS862_Divya's_edit_4.ipynb",
   "provenance": []
  },
  "kernelspec": {
   "display_name": "Python 3 (ipykernel)",
   "language": "python",
   "name": "python3"
  },
  "language_info": {
   "codemirror_mode": {
    "name": "ipython",
    "version": 3
   },
   "file_extension": ".py",
   "mimetype": "text/x-python",
   "name": "python",
   "nbconvert_exporter": "python",
   "pygments_lexer": "ipython3",
   "version": "3.8.18"
  }
 },
 "nbformat": 4,
 "nbformat_minor": 1
}
