{
 "cells": [
  {
   "cell_type": "code",
   "execution_count": 21,
   "metadata": {},
   "outputs": [],
   "source": [
    "import pandas as pd \n",
    "import numpy as np\n",
    "from gensim.models import Word2Vec as w2v\n",
    "import matplotlib.pyplot as plt\n",
    "from numpy.linalg import norm\n",
    "from numpy import dot\n",
    "from nltk.corpus import stopwords\n",
    "from sklearn.feature_extraction.text import TfidfVectorizer\n",
    "from sklearn.metrics.pairwise import cosine_similarity\n",
    "from nltk.tokenize import word_tokenize\n",
    "from nltk.stem import PorterStemmer\n",
    "from math import radians, cos, sin, asin, sqrt\n",
    "import joblib\n",
    "import warnings\n",
    "warnings.filterwarnings('ignore')"
   ]
  },
  {
   "cell_type": "code",
   "execution_count": 2,
   "metadata": {},
   "outputs": [],
   "source": [
    "meta_df = pd.read_json('data/business_with_embeddings.json')"
   ]
  },
  {
   "cell_type": "code",
   "execution_count": 3,
   "metadata": {},
   "outputs": [
    {
     "data": {
      "text/html": [
       "<div>\n",
       "<style scoped>\n",
       "    .dataframe tbody tr th:only-of-type {\n",
       "        vertical-align: middle;\n",
       "    }\n",
       "\n",
       "    .dataframe tbody tr th {\n",
       "        vertical-align: top;\n",
       "    }\n",
       "\n",
       "    .dataframe thead th {\n",
       "        text-align: right;\n",
       "    }\n",
       "</style>\n",
       "<table border=\"1\" class=\"dataframe\">\n",
       "  <thead>\n",
       "    <tr style=\"text-align: right;\">\n",
       "      <th></th>\n",
       "      <th>name</th>\n",
       "      <th>address</th>\n",
       "      <th>gmap_id</th>\n",
       "      <th>description</th>\n",
       "      <th>latitude</th>\n",
       "      <th>longitude</th>\n",
       "      <th>category</th>\n",
       "      <th>avg_rating</th>\n",
       "      <th>num_of_reviews</th>\n",
       "      <th>price</th>\n",
       "      <th>hours</th>\n",
       "      <th>MISC</th>\n",
       "      <th>state</th>\n",
       "      <th>relative_results</th>\n",
       "      <th>url</th>\n",
       "      <th>category_embeddings</th>\n",
       "    </tr>\n",
       "  </thead>\n",
       "  <tbody>\n",
       "    <tr>\n",
       "      <th>0</th>\n",
       "      <td>St Peter &amp; Paul Church</td>\n",
       "      <td>St Peter &amp; Paul Church, 500 Main St, Karlsruhe...</td>\n",
       "      <td>0x52d94fbefa0e6353:0xf709e2d8674fe3a</td>\n",
       "      <td>None</td>\n",
       "      <td>48.093248</td>\n",
       "      <td>-100.618664</td>\n",
       "      <td>[Catholic church]</td>\n",
       "      <td>4.9</td>\n",
       "      <td>7</td>\n",
       "      <td>None</td>\n",
       "      <td>None</td>\n",
       "      <td>{'Accessibility': ['Wheelchair accessible entr...</td>\n",
       "      <td>None</td>\n",
       "      <td>[0x52d9384b75abac93:0x13526f8266cae6cf, 0x52d9...</td>\n",
       "      <td>https://www.google.com/maps/place//data=!4m2!3...</td>\n",
       "      <td>[[0.0, 0.0, 0.0, 0.0, 0.0, 0.0, 0.0, 0.0, 0.0,...</td>\n",
       "    </tr>\n",
       "  </tbody>\n",
       "</table>\n",
       "</div>"
      ],
      "text/plain": [
       "                     name                                            address  \\\n",
       "0  St Peter & Paul Church  St Peter & Paul Church, 500 Main St, Karlsruhe...   \n",
       "\n",
       "                                gmap_id description   latitude   longitude  \\\n",
       "0  0x52d94fbefa0e6353:0xf709e2d8674fe3a        None  48.093248 -100.618664   \n",
       "\n",
       "            category  avg_rating  num_of_reviews price hours  \\\n",
       "0  [Catholic church]         4.9               7  None  None   \n",
       "\n",
       "                                                MISC state  \\\n",
       "0  {'Accessibility': ['Wheelchair accessible entr...  None   \n",
       "\n",
       "                                    relative_results  \\\n",
       "0  [0x52d9384b75abac93:0x13526f8266cae6cf, 0x52d9...   \n",
       "\n",
       "                                                 url  \\\n",
       "0  https://www.google.com/maps/place//data=!4m2!3...   \n",
       "\n",
       "                                 category_embeddings  \n",
       "0  [[0.0, 0.0, 0.0, 0.0, 0.0, 0.0, 0.0, 0.0, 0.0,...  "
      ]
     },
     "execution_count": 3,
     "metadata": {},
     "output_type": "execute_result"
    }
   ],
   "source": [
    "meta_df.head(1)"
   ]
  },
  {
   "cell_type": "code",
   "execution_count": 4,
   "metadata": {},
   "outputs": [],
   "source": [
    "# Converting user input to embeddings using our pretrained TF-IDF model\n",
    "def convert_user_input(user_input):\n",
    "    ps = PorterStemmer()\n",
    "    sw = stopwords.words('english')  \n",
    "    vectorizer = joblib.load('tfidf_vectorizer.pkl')\n",
    "    user_tokens = word_tokenize(user_input.lower())\n",
    "    user_tokens = [ps.stem(token) for token in user_tokens if token.isalnum() and token not in sw]\n",
    "    user_text = ' '.join(user_tokens)\n",
    "    user_vector = vectorizer.transform([user_text])\n",
    "    return user_vector"
   ]
  },
  {
   "cell_type": "code",
   "execution_count": 36,
   "metadata": {},
   "outputs": [],
   "source": [
    "# Find most related business as per user search\n",
    "def find_business(user_input):\n",
    "    user_vector = convert_user_input(user_input)\n",
    "    similar_business = []\n",
    "    for categories in meta_df['category_embeddings']:\n",
    "        cosine_similarities = cosine_similarity(user_vector, categories)\n",
    "        similar_business.append(max(cosine_similarities))\n",
    "    similar_business = np.array(similar_business)\n",
    "    print(similar_business, similar_business.shape)\n",
    "    # for i in top_n_idx:\n",
    "    #     print(f\"{meta_df.iloc[i]['name']} - {meta_df.iloc[i]['category']}\")\n",
    "    # return similar_business"
   ]
  },
  {
   "cell_type": "code",
   "execution_count": 37,
   "metadata": {},
   "outputs": [
    {
     "name": "stdout",
     "output_type": "stream",
     "text": [
      "(1, 1391)\n",
      "[array([0.]) array([0.]) array([0., 0.]) ... array([0.])\n",
      " array([0.51729232, 0.        , 0.        , 0.4615369 , 0.        ])\n",
      " array([0., 0.])] (11930,)\n"
     ]
    }
   ],
   "source": [
    "find_business('restaurant')"
   ]
  },
  {
   "cell_type": "code",
   "execution_count": 31,
   "metadata": {},
   "outputs": [
    {
     "data": {
      "text/plain": [
       "array([[0.99146013, 0.99146013, 0.99146013]])"
      ]
     },
     "execution_count": 31,
     "metadata": {},
     "output_type": "execute_result"
    }
   ],
   "source": [
    "cosine_similarity([[1,2,3]], [[1,2,4],[1,2,4],[1,2,4]])"
   ]
  },
  {
   "cell_type": "code",
   "execution_count": 39,
   "metadata": {},
   "outputs": [
    {
     "data": {
      "text/plain": [
       "11"
      ]
     },
     "execution_count": 39,
     "metadata": {},
     "output_type": "execute_result"
    }
   ],
   "source": [
    "max([len(x) for x in meta_df['category_embeddings']])"
   ]
  },
  {
   "cell_type": "code",
   "execution_count": null,
   "metadata": {},
   "outputs": [],
   "source": []
  }
 ],
 "metadata": {
  "kernelspec": {
   "display_name": "Python 3 (ipykernel)",
   "language": "python",
   "name": "python3"
  },
  "language_info": {
   "codemirror_mode": {
    "name": "ipython",
    "version": 3
   },
   "file_extension": ".py",
   "mimetype": "text/x-python",
   "name": "python",
   "nbconvert_exporter": "python",
   "pygments_lexer": "ipython3",
   "version": "3.10.13"
  }
 },
 "nbformat": 4,
 "nbformat_minor": 4
}
