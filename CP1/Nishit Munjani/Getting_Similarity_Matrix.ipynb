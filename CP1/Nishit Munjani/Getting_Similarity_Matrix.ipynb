{
 "cells": [
  {
   "cell_type": "markdown",
   "id": "77e05adf",
   "metadata": {},
   "source": [
    "## Creating the Text vectors and finding the Similarity Matrix."
   ]
  },
  {
   "cell_type": "code",
   "execution_count": 1,
   "id": "34d1125a",
   "metadata": {},
   "outputs": [],
   "source": [
    "import pandas as pd\n",
    "import numpy as np\n",
    "from sklearn.metrics.pairwise import cosine_similarity\n",
    "from sklearn.feature_extraction.text import TfidfVectorizer\n",
    "from ast import literal_eval\n",
    "from sklearn.preprocessing import MinMaxScaler"
   ]
  },
  {
   "cell_type": "code",
   "execution_count": 2,
   "id": "f4f6ea16",
   "metadata": {},
   "outputs": [],
   "source": [
    "df = pd.read_json('Dataset_with_img_embeddings.json')"
   ]
  },
  {
   "cell_type": "code",
   "execution_count": 3,
   "id": "751fbf74",
   "metadata": {},
   "outputs": [
    {
     "data": {
      "text/plain": [
       "(14223, 12)"
      ]
     },
     "execution_count": 3,
     "metadata": {},
     "output_type": "execute_result"
    }
   ],
   "source": [
    "df.shape"
   ]
  },
  {
   "cell_type": "markdown",
   "id": "4f0641fb",
   "metadata": {},
   "source": [
    "### Applying TF-IDF Vectorizer on the description column."
   ]
  },
  {
   "cell_type": "code",
   "execution_count": 4,
   "id": "23f6923a",
   "metadata": {},
   "outputs": [],
   "source": [
    "tfv = TfidfVectorizer(min_df = 3, max_features = None,\n",
    "                     strip_accents = 'unicode', analyzer = \"word\", token_pattern = r'\\w{1,}',\n",
    "                     ngram_range = (1,3),\n",
    "                     stop_words = 'english')"
   ]
  },
  {
   "cell_type": "code",
   "execution_count": 5,
   "id": "1ac9ed3b",
   "metadata": {},
   "outputs": [],
   "source": [
    "tfv_matrix = tfv.fit_transform(df['description'])"
   ]
  },
  {
   "cell_type": "code",
   "execution_count": 6,
   "id": "f9852848",
   "metadata": {},
   "outputs": [],
   "source": [
    "result = pd.DataFrame(\n",
    "    data = tfv_matrix.toarray(),\n",
    "    columns = tfv.get_feature_names_out()\n",
    ")"
   ]
  },
  {
   "cell_type": "code",
   "execution_count": 7,
   "id": "13b5fc82",
   "metadata": {},
   "outputs": [],
   "source": [
    "del tfv_matrix"
   ]
  },
  {
   "cell_type": "code",
   "execution_count": 8,
   "id": "19a26f86",
   "metadata": {},
   "outputs": [],
   "source": [
    "df = df.drop(df.columns[~df.columns.isin(['p_id','img_embedding'])], axis=1)"
   ]
  },
  {
   "cell_type": "code",
   "execution_count": 9,
   "id": "ec5d67c1",
   "metadata": {},
   "outputs": [],
   "source": [
    "df = pd.concat([df,result], axis=1)"
   ]
  },
  {
   "cell_type": "code",
   "execution_count": 10,
   "id": "cccdad6f",
   "metadata": {},
   "outputs": [],
   "source": [
    "df = df.dropna(subset=['p_id'])"
   ]
  },
  {
   "cell_type": "code",
   "execution_count": 11,
   "id": "429b2d39",
   "metadata": {},
   "outputs": [],
   "source": [
    "del result"
   ]
  },
  {
   "cell_type": "markdown",
   "id": "8bc80cc8",
   "metadata": {},
   "source": [
    "### Creating columns for every element in the Image Embedding vector."
   ]
  },
  {
   "cell_type": "code",
   "execution_count": 12,
   "id": "84f18248",
   "metadata": {},
   "outputs": [],
   "source": [
    "split_df = df['img_embedding'].apply(pd.Series)\n",
    "df = pd.concat([df.drop(columns=['img_embedding'], axis=1), split_df], axis = 1)"
   ]
  },
  {
   "cell_type": "code",
   "execution_count": 13,
   "id": "6c945b1e",
   "metadata": {},
   "outputs": [],
   "source": [
    "del split_df"
   ]
  },
  {
   "cell_type": "code",
   "execution_count": 14,
   "id": "2a046d41",
   "metadata": {},
   "outputs": [],
   "source": [
    "df.columns = df.columns.astype(str)"
   ]
  },
  {
   "cell_type": "code",
   "execution_count": 16,
   "id": "7c960cd2",
   "metadata": {},
   "outputs": [
    {
     "data": {
      "text/html": [
       "<div>\n",
       "<style scoped>\n",
       "    .dataframe tbody tr th:only-of-type {\n",
       "        vertical-align: middle;\n",
       "    }\n",
       "\n",
       "    .dataframe tbody tr th {\n",
       "        vertical-align: top;\n",
       "    }\n",
       "\n",
       "    .dataframe thead th {\n",
       "        text-align: right;\n",
       "    }\n",
       "</style>\n",
       "<table border=\"1\" class=\"dataframe\">\n",
       "  <thead>\n",
       "    <tr style=\"text-align: right;\">\n",
       "      <th></th>\n",
       "      <th>p_id</th>\n",
       "      <th>0</th>\n",
       "      <th>0 40</th>\n",
       "      <th>0 5</th>\n",
       "      <th>0 5 lycra</th>\n",
       "      <th>0 5 mtr</th>\n",
       "      <th>0 5 spendex</th>\n",
       "      <th>0 6</th>\n",
       "      <th>0 7</th>\n",
       "      <th>0 7 m</th>\n",
       "      <th>...</th>\n",
       "      <th>4086</th>\n",
       "      <th>4087</th>\n",
       "      <th>4088</th>\n",
       "      <th>4089</th>\n",
       "      <th>4090</th>\n",
       "      <th>4091</th>\n",
       "      <th>4092</th>\n",
       "      <th>4093</th>\n",
       "      <th>4094</th>\n",
       "      <th>4095</th>\n",
       "    </tr>\n",
       "  </thead>\n",
       "  <tbody>\n",
       "    <tr>\n",
       "      <th>0</th>\n",
       "      <td>17048614.0</td>\n",
       "      <td>0.0</td>\n",
       "      <td>0.0</td>\n",
       "      <td>0.0</td>\n",
       "      <td>0.0</td>\n",
       "      <td>0.0</td>\n",
       "      <td>0.0</td>\n",
       "      <td>0.0</td>\n",
       "      <td>0.0</td>\n",
       "      <td>0.0</td>\n",
       "      <td>...</td>\n",
       "      <td>0.424743</td>\n",
       "      <td>0.0</td>\n",
       "      <td>1.154702</td>\n",
       "      <td>4.435660</td>\n",
       "      <td>2.593419</td>\n",
       "      <td>0.000000</td>\n",
       "      <td>0.0</td>\n",
       "      <td>0.000000</td>\n",
       "      <td>0.000000</td>\n",
       "      <td>0.0</td>\n",
       "    </tr>\n",
       "    <tr>\n",
       "      <th>1</th>\n",
       "      <td>16524740.0</td>\n",
       "      <td>0.0</td>\n",
       "      <td>0.0</td>\n",
       "      <td>0.0</td>\n",
       "      <td>0.0</td>\n",
       "      <td>0.0</td>\n",
       "      <td>0.0</td>\n",
       "      <td>0.0</td>\n",
       "      <td>0.0</td>\n",
       "      <td>0.0</td>\n",
       "      <td>...</td>\n",
       "      <td>4.089751</td>\n",
       "      <td>0.0</td>\n",
       "      <td>1.575045</td>\n",
       "      <td>0.468710</td>\n",
       "      <td>0.000000</td>\n",
       "      <td>0.000000</td>\n",
       "      <td>0.0</td>\n",
       "      <td>1.370939</td>\n",
       "      <td>0.000000</td>\n",
       "      <td>0.0</td>\n",
       "    </tr>\n",
       "    <tr>\n",
       "      <th>2</th>\n",
       "      <td>16331376.0</td>\n",
       "      <td>0.0</td>\n",
       "      <td>0.0</td>\n",
       "      <td>0.0</td>\n",
       "      <td>0.0</td>\n",
       "      <td>0.0</td>\n",
       "      <td>0.0</td>\n",
       "      <td>0.0</td>\n",
       "      <td>0.0</td>\n",
       "      <td>0.0</td>\n",
       "      <td>...</td>\n",
       "      <td>3.142239</td>\n",
       "      <td>0.0</td>\n",
       "      <td>2.062879</td>\n",
       "      <td>2.604944</td>\n",
       "      <td>0.000000</td>\n",
       "      <td>0.000000</td>\n",
       "      <td>0.0</td>\n",
       "      <td>0.000000</td>\n",
       "      <td>0.879324</td>\n",
       "      <td>0.0</td>\n",
       "    </tr>\n",
       "    <tr>\n",
       "      <th>3</th>\n",
       "      <td>14709966.0</td>\n",
       "      <td>0.0</td>\n",
       "      <td>0.0</td>\n",
       "      <td>0.0</td>\n",
       "      <td>0.0</td>\n",
       "      <td>0.0</td>\n",
       "      <td>0.0</td>\n",
       "      <td>0.0</td>\n",
       "      <td>0.0</td>\n",
       "      <td>0.0</td>\n",
       "      <td>...</td>\n",
       "      <td>2.890770</td>\n",
       "      <td>0.0</td>\n",
       "      <td>0.611349</td>\n",
       "      <td>3.531166</td>\n",
       "      <td>0.000000</td>\n",
       "      <td>0.000000</td>\n",
       "      <td>0.0</td>\n",
       "      <td>0.000000</td>\n",
       "      <td>6.466933</td>\n",
       "      <td>0.0</td>\n",
       "    </tr>\n",
       "    <tr>\n",
       "      <th>4</th>\n",
       "      <td>11056154.0</td>\n",
       "      <td>0.0</td>\n",
       "      <td>0.0</td>\n",
       "      <td>0.0</td>\n",
       "      <td>0.0</td>\n",
       "      <td>0.0</td>\n",
       "      <td>0.0</td>\n",
       "      <td>0.0</td>\n",
       "      <td>0.0</td>\n",
       "      <td>0.0</td>\n",
       "      <td>...</td>\n",
       "      <td>2.651135</td>\n",
       "      <td>0.0</td>\n",
       "      <td>0.000000</td>\n",
       "      <td>0.965572</td>\n",
       "      <td>0.000000</td>\n",
       "      <td>0.471014</td>\n",
       "      <td>0.0</td>\n",
       "      <td>0.000000</td>\n",
       "      <td>3.518062</td>\n",
       "      <td>0.0</td>\n",
       "    </tr>\n",
       "  </tbody>\n",
       "</table>\n",
       "<p>5 rows × 40808 columns</p>\n",
       "</div>"
      ],
      "text/plain": [
       "         p_id    0  0 40  0 5  0 5 lycra  0 5 mtr  0 5 spendex  0 6  0 7  \\\n",
       "0  17048614.0  0.0   0.0  0.0        0.0      0.0          0.0  0.0  0.0   \n",
       "1  16524740.0  0.0   0.0  0.0        0.0      0.0          0.0  0.0  0.0   \n",
       "2  16331376.0  0.0   0.0  0.0        0.0      0.0          0.0  0.0  0.0   \n",
       "3  14709966.0  0.0   0.0  0.0        0.0      0.0          0.0  0.0  0.0   \n",
       "4  11056154.0  0.0   0.0  0.0        0.0      0.0          0.0  0.0  0.0   \n",
       "\n",
       "   0 7 m  ...      4086  4087      4088      4089      4090      4091  4092  \\\n",
       "0    0.0  ...  0.424743   0.0  1.154702  4.435660  2.593419  0.000000   0.0   \n",
       "1    0.0  ...  4.089751   0.0  1.575045  0.468710  0.000000  0.000000   0.0   \n",
       "2    0.0  ...  3.142239   0.0  2.062879  2.604944  0.000000  0.000000   0.0   \n",
       "3    0.0  ...  2.890770   0.0  0.611349  3.531166  0.000000  0.000000   0.0   \n",
       "4    0.0  ...  2.651135   0.0  0.000000  0.965572  0.000000  0.471014   0.0   \n",
       "\n",
       "       4093      4094  4095  \n",
       "0  0.000000  0.000000   0.0  \n",
       "1  1.370939  0.000000   0.0  \n",
       "2  0.000000  0.879324   0.0  \n",
       "3  0.000000  6.466933   0.0  \n",
       "4  0.000000  3.518062   0.0  \n",
       "\n",
       "[5 rows x 40808 columns]"
      ]
     },
     "execution_count": 16,
     "metadata": {},
     "output_type": "execute_result"
    }
   ],
   "source": [
    "df.head(5)"
   ]
  },
  {
   "cell_type": "code",
   "execution_count": 17,
   "id": "439bf973",
   "metadata": {},
   "outputs": [],
   "source": [
    "df.fillna(0, inplace=True)"
   ]
  },
  {
   "cell_type": "markdown",
   "id": "bcadc7ae",
   "metadata": {},
   "source": [
    "### Creating the Similarity Matrix by applying Cosine Similarity on data."
   ]
  },
  {
   "cell_type": "code",
   "execution_count": 18,
   "id": "8bb4a7ba",
   "metadata": {},
   "outputs": [],
   "source": [
    "similarity_matrix = cosine_similarity(df.drop(columns=['p_id'], axis=1))"
   ]
  },
  {
   "cell_type": "code",
   "execution_count": 19,
   "id": "f1b43bcc",
   "metadata": {},
   "outputs": [
    {
     "data": {
      "text/plain": [
       "(14223, 40808)"
      ]
     },
     "execution_count": 19,
     "metadata": {},
     "output_type": "execute_result"
    }
   ],
   "source": [
    "df.shape"
   ]
  },
  {
   "cell_type": "code",
   "execution_count": 20,
   "id": "0b0bca9d",
   "metadata": {},
   "outputs": [],
   "source": [
    "import json\n",
    "final_json = {}\n",
    "for idx, i in enumerate(similarity_matrix):\n",
    "    final_json[int(df.iloc[idx]['p_id'])] = i.tolist()\n",
    "\n",
    "with open('Multi_modal_similarity.json', 'a') as f:\n",
    "    json.dump(final_json, f)"
   ]
  },
  {
   "cell_type": "code",
   "execution_count": null,
   "id": "40e28222",
   "metadata": {},
   "outputs": [],
   "source": []
  },
  {
   "cell_type": "code",
   "execution_count": null,
   "id": "26a03aa0",
   "metadata": {},
   "outputs": [],
   "source": []
  }
 ],
 "metadata": {
  "kernelspec": {
   "display_name": "Python 3 (ipykernel)",
   "language": "python",
   "name": "python3"
  },
  "language_info": {
   "codemirror_mode": {
    "name": "ipython",
    "version": 3
   },
   "file_extension": ".py",
   "mimetype": "text/x-python",
   "name": "python",
   "nbconvert_exporter": "python",
   "pygments_lexer": "ipython3",
   "version": "3.11.5"
  }
 },
 "nbformat": 4,
 "nbformat_minor": 5
}
