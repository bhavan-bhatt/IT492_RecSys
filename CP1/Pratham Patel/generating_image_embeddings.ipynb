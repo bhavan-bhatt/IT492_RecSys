{
  "cells": [
    {
      "cell_type": "markdown",
      "metadata": {
        "id": "1eH0xzUOA1YX"
      },
      "source": [
        "### Keeping all the columns and Label Encoding them using sklearn"
      ]
    },
    {
      "cell_type": "code",
      "execution_count": 1,
      "metadata": {
        "cellView": "form",
        "id": "0jzvV1OffM0W"
      },
      "outputs": [],
      "source": [
        "#@title Importing libraries\n",
        "import pandas as pd\n",
        "from sklearn.preprocessing import LabelEncoder\n",
        "pd.set_option('display.max_rows', None)\n",
        "pd.set_option('display.max_columns', None)\n",
        "import warnings\n",
        "warnings.simplefilter(action='ignore', category=FutureWarning)\n",
        "warnings.simplefilter(action='ignore', category=pd.errors.PerformanceWarning)\n",
        "from sklearn.metrics.pairwise import cosine_similarity\n",
        "import ast\n",
        "import numpy as np\n",
        "import seaborn as sns\n",
        "import urllib.request as request\n",
        "import matplotlib.pyplot as plt\n",
        "import matplotlib.image as img\n",
        "import datetime as dt"
      ]
    },
    {
      "cell_type": "code",
      "execution_count": 2,
      "metadata": {},
      "outputs": [],
      "source": [
        "# Plotting images using the links provided in dataset\n",
        "def display_image(url):\n",
        "    image = request.urlopen(url)\n",
        "    image = plt.imread(image, format='WEBP')\n",
        "    plt.imshow(image)"
      ]
    },
    {
      "cell_type": "code",
      "execution_count": 3,
      "metadata": {
        "colab": {
          "base_uri": "https://localhost:8080/",
          "height": 694
        },
        "id": "ieJiRJhcfM0X",
        "outputId": "f6c3d700-b143-4483-8339-f9902c589398"
      },
      "outputs": [
        {
          "data": {
            "text/html": [
              "<div>\n",
              "<style scoped>\n",
              "    .dataframe tbody tr th:only-of-type {\n",
              "        vertical-align: middle;\n",
              "    }\n",
              "\n",
              "    .dataframe tbody tr th {\n",
              "        vertical-align: top;\n",
              "    }\n",
              "\n",
              "    .dataframe thead th {\n",
              "        text-align: right;\n",
              "    }\n",
              "</style>\n",
              "<table border=\"1\" class=\"dataframe\">\n",
              "  <thead>\n",
              "    <tr style=\"text-align: right;\">\n",
              "      <th></th>\n",
              "      <th>p_id</th>\n",
              "      <th>name</th>\n",
              "      <th>price</th>\n",
              "      <th>colour</th>\n",
              "      <th>brand</th>\n",
              "      <th>img</th>\n",
              "      <th>ratingCount</th>\n",
              "      <th>avg_rating</th>\n",
              "      <th>description</th>\n",
              "      <th>p_attributes</th>\n",
              "    </tr>\n",
              "  </thead>\n",
              "  <tbody>\n",
              "    <tr>\n",
              "      <th>0</th>\n",
              "      <td>17048614.0</td>\n",
              "      <td>Khushal K Women Black Ethnic Motifs Printed Ku...</td>\n",
              "      <td>5099.0</td>\n",
              "      <td>Black</td>\n",
              "      <td>Khushal K</td>\n",
              "      <td>http://assets.myntassets.com/assets/images/170...</td>\n",
              "      <td>4522.0</td>\n",
              "      <td>4.418399</td>\n",
              "      <td>Black printed Kurta with Palazzos with dupatta...</td>\n",
              "      <td>{'Add-Ons': 'NA', 'Body Shape ID': '443,333,32...</td>\n",
              "    </tr>\n",
              "    <tr>\n",
              "      <th>1</th>\n",
              "      <td>16524740.0</td>\n",
              "      <td>InWeave Women Orange Solid Kurta with Palazzos...</td>\n",
              "      <td>5899.0</td>\n",
              "      <td>Orange</td>\n",
              "      <td>InWeave</td>\n",
              "      <td>http://assets.myntassets.com/assets/images/165...</td>\n",
              "      <td>1081.0</td>\n",
              "      <td>4.119334</td>\n",
              "      <td>Orange solid Kurta with Palazzos with dupatta&lt;...</td>\n",
              "      <td>{'Add-Ons': 'NA', 'Body Shape ID': '443,333,32...</td>\n",
              "    </tr>\n",
              "    <tr>\n",
              "      <th>2</th>\n",
              "      <td>16331376.0</td>\n",
              "      <td>Anubhutee Women Navy Blue Ethnic Motifs Embroi...</td>\n",
              "      <td>4899.0</td>\n",
              "      <td>Navy Blue</td>\n",
              "      <td>Anubhutee</td>\n",
              "      <td>http://assets.myntassets.com/assets/images/163...</td>\n",
              "      <td>1752.0</td>\n",
              "      <td>4.161530</td>\n",
              "      <td>Navy blue embroidered Kurta with Trousers with...</td>\n",
              "      <td>{'Add-Ons': 'NA', 'Body Shape ID': '333,424', ...</td>\n",
              "    </tr>\n",
              "    <tr>\n",
              "      <th>3</th>\n",
              "      <td>14709966.0</td>\n",
              "      <td>Nayo Women Red Floral Printed Kurta With Trous...</td>\n",
              "      <td>3699.0</td>\n",
              "      <td>Red</td>\n",
              "      <td>Nayo</td>\n",
              "      <td>http://assets.myntassets.com/assets/images/147...</td>\n",
              "      <td>4113.0</td>\n",
              "      <td>4.088986</td>\n",
              "      <td>Red printed kurta with trouser and dupatta&lt;br&gt;...</td>\n",
              "      <td>{'Add-Ons': 'NA', 'Body Shape ID': '333,424', ...</td>\n",
              "    </tr>\n",
              "    <tr>\n",
              "      <th>4</th>\n",
              "      <td>11056154.0</td>\n",
              "      <td>AHIKA Women Black &amp; Green Printed Straight Kurta</td>\n",
              "      <td>1350.0</td>\n",
              "      <td>Black</td>\n",
              "      <td>AHIKA</td>\n",
              "      <td>http://assets.myntassets.com/assets/images/110...</td>\n",
              "      <td>21274.0</td>\n",
              "      <td>3.978377</td>\n",
              "      <td>Black and green printed straight kurta, has a ...</td>\n",
              "      <td>{'Body Shape ID': '424', 'Body or Garment Size...</td>\n",
              "    </tr>\n",
              "  </tbody>\n",
              "</table>\n",
              "</div>"
            ],
            "text/plain": [
              "         p_id                                               name   price  \\\n",
              "0  17048614.0  Khushal K Women Black Ethnic Motifs Printed Ku...  5099.0   \n",
              "1  16524740.0  InWeave Women Orange Solid Kurta with Palazzos...  5899.0   \n",
              "2  16331376.0  Anubhutee Women Navy Blue Ethnic Motifs Embroi...  4899.0   \n",
              "3  14709966.0  Nayo Women Red Floral Printed Kurta With Trous...  3699.0   \n",
              "4  11056154.0   AHIKA Women Black & Green Printed Straight Kurta  1350.0   \n",
              "\n",
              "      colour      brand                                                img  \\\n",
              "0      Black  Khushal K  http://assets.myntassets.com/assets/images/170...   \n",
              "1     Orange    InWeave  http://assets.myntassets.com/assets/images/165...   \n",
              "2  Navy Blue  Anubhutee  http://assets.myntassets.com/assets/images/163...   \n",
              "3        Red       Nayo  http://assets.myntassets.com/assets/images/147...   \n",
              "4      Black      AHIKA  http://assets.myntassets.com/assets/images/110...   \n",
              "\n",
              "   ratingCount  avg_rating                                        description  \\\n",
              "0       4522.0    4.418399  Black printed Kurta with Palazzos with dupatta...   \n",
              "1       1081.0    4.119334  Orange solid Kurta with Palazzos with dupatta<...   \n",
              "2       1752.0    4.161530  Navy blue embroidered Kurta with Trousers with...   \n",
              "3       4113.0    4.088986  Red printed kurta with trouser and dupatta<br>...   \n",
              "4      21274.0    3.978377  Black and green printed straight kurta, has a ...   \n",
              "\n",
              "                                        p_attributes  \n",
              "0  {'Add-Ons': 'NA', 'Body Shape ID': '443,333,32...  \n",
              "1  {'Add-Ons': 'NA', 'Body Shape ID': '443,333,32...  \n",
              "2  {'Add-Ons': 'NA', 'Body Shape ID': '333,424', ...  \n",
              "3  {'Add-Ons': 'NA', 'Body Shape ID': '333,424', ...  \n",
              "4  {'Body Shape ID': '424', 'Body or Garment Size...  "
            ]
          },
          "execution_count": 3,
          "metadata": {},
          "output_type": "execute_result"
        }
      ],
      "source": [
        "# Initial DataFrame\n",
        "df = pd.read_csv(\"Fashion Dataset.csv\")\n",
        "df.head(5)"
      ]
    },
    {
      "cell_type": "code",
      "execution_count": 4,
      "metadata": {
        "id": "POGYCaotC60A"
      },
      "outputs": [],
      "source": [
        "# Dropping rows whose all values are null\n",
        "df = df.dropna(how=\"all\")"
      ]
    },
    {
      "cell_type": "code",
      "execution_count": 5,
      "metadata": {
        "id": "YCdwXBLTfM0Y"
      },
      "outputs": [],
      "source": [
        "# Extract features from the column 'p_attributes'\n",
        "for index, row in df.iterrows():\n",
        "\n",
        "    if  not pd.isna(row['p_attributes']):\n",
        "      # Get features into the dictionary format\n",
        "      features_dict = ast.literal_eval(row['p_attributes'])\n",
        "\n",
        "      # Add features as separate columns to the DataFrame\n",
        "      for feature, value in features_dict.items():\n",
        "          df.at[index, feature] = value"
      ]
    },
    {
      "cell_type": "code",
      "execution_count": 6,
      "metadata": {
        "id": "H-QXTBAKslQ8"
      },
      "outputs": [],
      "source": [
        "# Keeping first occurence of duplicate rows\n",
        "duplicated_rows = df[df.duplicated(subset=\"p_id\", keep=False)]\n",
        "rows_to_delete = duplicated_rows.drop_duplicates(subset=\"p_id\", keep=\"first\")\n",
        "df = df.drop(index=rows_to_delete.index)"
      ]
    },
    {
      "cell_type": "code",
      "execution_count": 7,
      "metadata": {},
      "outputs": [],
      "source": [
        "# Dropping unnecessary columns\n",
        "df = df.drop(columns=['description', 'img', 'p_attributes', 'Add-Ons', 'Body or Garment Size', 'Number of Pockets',\n",
        "                      'Sustainable', 'Wash Care', 'Weave Pattern', 'Style Tip',\n",
        "                      'Fabric Purity', 'Shape', 'Care for me', 'Where-to-wear', 'Wedding', 'About the Brand',\n",
        "                      'Better Cotton Initiative', 'taxMaterial', 'Contact Brand or Retailer for pre-sales product queries',\n",
        "                      'Collection Name', 'Brand Fit Name', 'Fabric 3', 'Reversible', 'How to care for your denim', 'What it does for your body',\n",
        "                      'Technology', 'Sport Team', 'Fusion Wear', 'Set Content', 'Regions', 'Technology Present'], axis=1)"
      ]
    },
    {
      "cell_type": "markdown",
      "metadata": {},
      "source": [
        "### EDA"
      ]
    },
    {
      "cell_type": "code",
      "execution_count": 8,
      "metadata": {},
      "outputs": [
        {
          "data": {
            "text/plain": [
              "<Axes: ylabel='Bottom Type'>"
            ]
          },
          "execution_count": 8,
          "metadata": {},
          "output_type": "execute_result"
        },
        {
          "data": {
            "image/png": "[encoded data removed]",
            "text/plain": [
              "<Figure size 640x480 with 1 Axes>"
            ]
          },
          "metadata": {},
          "output_type": "display_data"
        }
      ],
      "source": [
        "sns.barplot(df['Bottom Type'])"
      ]
    },
    {
      "cell_type": "code",
      "execution_count": 9,
      "metadata": {},
      "outputs": [
        {
          "data": {
            "text/plain": [
              "<Axes: ylabel='Top Type'>"
            ]
          },
          "execution_count": 9,
          "metadata": {},
          "output_type": "execute_result"
        },
        {
          "data": {
            "image/png": "[encoded data removed]",
            "text/plain": [
              "<Figure size 640x480 with 1 Axes>"
            ]
          },
          "metadata": {},
          "output_type": "display_data"
        }
      ],
      "source": [
        "sns.barplot(df['Top Type'])"
      ]
    },
    {
      "cell_type": "markdown",
      "metadata": {},
      "source": [
        "### Generating image embeddings"
      ]
    },
    {
      "cell_type": "code",
      "execution_count": 10,
      "metadata": {},
      "outputs": [
        {
          "name": "stderr",
          "output_type": "stream",
          "text": [
            "2024-02-13 16:04:14.836873: E tensorflow/compiler/xla/stream_executor/cuda/cuda_dnn.cc:9342] Unable to register cuDNN factory: Attempting to register factory for plugin cuDNN when one has already been registered\n",
            "2024-02-13 16:04:14.836932: E tensorflow/compiler/xla/stream_executor/cuda/cuda_fft.cc:609] Unable to register cuFFT factory: Attempting to register factory for plugin cuFFT when one has already been registered\n",
            "2024-02-13 16:04:14.836974: E tensorflow/compiler/xla/stream_executor/cuda/cuda_blas.cc:1518] Unable to register cuBLAS factory: Attempting to register factory for plugin cuBLAS when one has already been registered\n"
          ]
        }
      ],
      "source": [
        "import os\n",
        "os.environ['TF_CPP_MIN_LOG_LEVEL'] = '2'\n",
        "import tensorflow as tf\n",
        "import datetime as dt\n",
        "import cv2\n",
        "from tensorflow import keras\n",
        "from tqdm import tqdm"
      ]
    },
    {
      "cell_type": "code",
      "execution_count": 11,
      "metadata": {},
      "outputs": [],
      "source": [
        "# Using DenseNet 121 to generate image embeddings\n",
        "model_embedding = tf.keras.applications.DenseNet121(\n",
        "    include_top=False, weights='imagenet', input_tensor=None, input_shape=(512,512,3),\n",
        "    pooling=None,\n",
        ")\n",
        "\n",
        "# Getting image embeddings\n",
        "def get_embeddings(path):\n",
        "    try:\n",
        "        img = keras.utils.load_img(path, target_size=(512, 512))\n",
        "        img = tf.image.convert_image_dtype(img,tf.float32)[tf.newaxis, ...]\n",
        "        op = model_embedding.predict(img,steps=1, verbose=0)\n",
        "        op = tf.squeeze(op, axis=None, name=None)\n",
        "        op = tf.reduce_mean(op, axis=(0,1), keepdims=False, name=None).numpy()\n",
        "        op = op.tolist()\n",
        "    except Exception as e:\n",
        "        print('get_embeddings() error: ', e)\n",
        "        return None\n",
        "    return op"
      ]
    },
    {
      "cell_type": "code",
      "execution_count": 12,
      "metadata": {},
      "outputs": [
        {
          "name": "stdout",
          "output_type": "stream",
          "text": [
            "get_embeddings() error:  [Errno 2] No such file or directory: '/mnt/h/work_projects/College/RecSys_assignment/Myntra Images/images/14173374.jpg'\n",
            "get_embeddings() error:  [Errno 2] No such file or directory: '/mnt/h/work_projects/College/RecSys_assignment/Myntra Images/images/1639311.jpg'\n",
            "get_embeddings() error:  [Errno 2] No such file or directory: '/mnt/h/work_projects/College/RecSys_assignment/Myntra Images/images/13610048.jpg'\n",
            "get_embeddings() error:  [Errno 2] No such file or directory: '/mnt/h/work_projects/College/RecSys_assignment/Myntra Images/images/7779911.jpg'\n",
            "get_embeddings() error:  [Errno 2] No such file or directory: '/mnt/h/work_projects/College/RecSys_assignment/Myntra Images/images/13689346.jpg'\n",
            "get_embeddings() error:  [Errno 2] No such file or directory: '/mnt/h/work_projects/College/RecSys_assignment/Myntra Images/images/13691524.jpg'\n",
            "get_embeddings() error:  [Errno 2] No such file or directory: '/mnt/h/work_projects/College/RecSys_assignment/Myntra Images/images/18075162.jpg'\n",
            "get_embeddings() error:  [Errno 2] No such file or directory: '/mnt/h/work_projects/College/RecSys_assignment/Myntra Images/images/13135212.jpg'\n",
            "get_embeddings() error:  [Errno 2] No such file or directory: '/mnt/h/work_projects/College/RecSys_assignment/Myntra Images/images/13135178.jpg'\n",
            "get_embeddings() error:  image file is truncated (3 bytes not processed)\n"
          ]
        }
      ],
      "source": [
        "# Saving image embeddings in dataframe\n",
        "image_embeddings = []\n",
        "images_directory = '/mnt/h/work_projects/College/RecSys_assignment/Myntra Images/images'\n",
        "for idx, row in df.iterrows():\n",
        "  try:\n",
        "    img_embd = get_embeddings(images_directory + f'/{int(row[\"p_id\"])}.jpg')\n",
        "    image_embeddings.append(img_embd)\n",
        "  except Exception as e:\n",
        "    df['image_embeddings'] = image_embeddings\n",
        "    df.to_csv('image_embeddings.csv')\n",
        "    print(f'Error index {idx}, {e}')"
      ]
    },
    {
      "cell_type": "code",
      "execution_count": null,
      "metadata": {},
      "outputs": [],
      "source": [
        "# Saving embeddings in csv\n",
        "df['image_embeddings'] = image_embeddings\n",
        "df.to_csv('image_embeddings.csv')"
      ]
    },
    {
      "cell_type": "code",
      "execution_count": null,
      "metadata": {},
      "outputs": [],
      "source": [
        "# Calculating cosine similarity between images\n",
        "from sklearn.metrics.pairwise import cosine_similarity\n",
        "\n",
        "image_similarity_matrix = cosine_similarity(df['image_embeddings'])\n",
        "image_similarity_matrix.shape"
      ]
    },
    {
      "cell_type": "code",
      "execution_count": null,
      "metadata": {
        "id": "eeRV7TxCfM0Y"
      },
      "outputs": [],
      "source": [
        "# Labeling prices in the range of [0, 500, 1K, 4K, 7K, 10K, 15K, 20K, 25K, 30K, 35K, 40K, 45K, 50K]\n",
        "\n",
        "price_range = [0, 500]+list(range(1000, 13000, 3000))+list(range(15000, 55000, 5000))\n",
        "df['price'] = pd.cut(df['price'], bins=price_range, include_lowest=True, labels=list(range(len(price_range)-1)))"
      ]
    },
    {
      "cell_type": "code",
      "execution_count": null,
      "metadata": {
        "id": "Ru11sxM8fM0Y"
      },
      "outputs": [],
      "source": [
        "# Label Encoding all columns except name, p_id and price\n",
        "le = LabelEncoder()\n",
        "df.columns.difference(['name', 'p_id', 'price'])\n",
        "columns_to_encode = df.columns.difference(['name', 'p_id', 'price'])\n",
        "df[columns_to_encode] = df[columns_to_encode].apply(le.fit_transform)"
      ]
    },
    {
      "cell_type": "code",
      "execution_count": null,
      "metadata": {
        "colab": {
          "base_uri": "https://localhost:8080/",
          "height": 746
        },
        "id": "OGcw6QX_CD5Z",
        "outputId": "0e09280a-b02e-465f-f164-c42ddbfd3ca3"
      },
      "outputs": [],
      "source": [
        "# Final DataFrame\n",
        "df.head(5)"
      ]
    },
    {
      "cell_type": "code",
      "execution_count": null,
      "metadata": {
        "id": "EwraN5rWfM0Z"
      },
      "outputs": [],
      "source": [
        "# Calculating similarity between products\n",
        "similarity_matrix = cosine_similarity(df.drop(['name', 'p_id'], axis=1))"
      ]
    },
    {
      "cell_type": "code",
      "execution_count": null,
      "metadata": {
        "colab": {
          "base_uri": "https://localhost:8080/"
        },
        "id": "2VdUei86DHHZ",
        "outputId": "08a6d397-3aa7-4d99-dc73-3501d8e07897"
      },
      "outputs": [],
      "source": [
        "similarity_matrix.shape"
      ]
    },
    {
      "cell_type": "code",
      "execution_count": null,
      "metadata": {
        "colab": {
          "base_uri": "https://localhost:8080/"
        },
        "id": "Cy5BC2IIAm1B",
        "outputId": "cd369a82-999f-43d6-93be-89ad7a69aa78"
      },
      "outputs": [],
      "source": [
        "similarity_matrix"
      ]
    },
    {
      "cell_type": "markdown",
      "metadata": {},
      "source": [
        "### Top 5 similar products to first product based on similarity matrix."
      ]
    },
    {
      "cell_type": "code",
      "execution_count": null,
      "metadata": {},
      "outputs": [],
      "source": [
        "df.iloc[0]['img']"
      ]
    },
    {
      "cell_type": "code",
      "execution_count": null,
      "metadata": {},
      "outputs": [],
      "source": [
        "image = request.urlopen(df.iloc[0]['img'])\n",
        "image = plt.imread(image, format='WEBP')\n",
        "plt.imshow(image)"
      ]
    },
    {
      "cell_type": "code",
      "execution_count": null,
      "metadata": {},
      "outputs": [],
      "source": [
        "first_product = similarity_matrix[0]\n",
        "k = 5\n",
        "top_k_idx = np.argsort(first_product)[-(k+1):][:-1]\n",
        "top_k_idx[-1]"
      ]
    },
    {
      "cell_type": "code",
      "execution_count": null,
      "metadata": {},
      "outputs": [],
      "source": [
        "image = request.urlopen(df.iloc[top_k_idx[-1]]['img'])\n",
        "image = plt.imread(image, format='WEBP')\n",
        "plt.imshow(image)"
      ]
    },
    {
      "cell_type": "code",
      "execution_count": null,
      "metadata": {},
      "outputs": [],
      "source": [
        "image = request.urlopen(df.iloc[top_k_idx[-2]]['img'])\n",
        "image = plt.imread(image, format='WEBP')\n",
        "plt.imshow(image)"
      ]
    },
    {
      "cell_type": "code",
      "execution_count": null,
      "metadata": {},
      "outputs": [],
      "source": [
        "image = request.urlopen(df.iloc[top_k_idx[-3]]['img'])\n",
        "image = plt.imread(image, format='WEBP')\n",
        "plt.imshow(image)"
      ]
    },
    {
      "cell_type": "code",
      "execution_count": null,
      "metadata": {},
      "outputs": [],
      "source": [
        "image = request.urlopen(df.iloc[top_k_idx[-4]]['img'])\n",
        "image = plt.imread(image, format='WEBP')\n",
        "plt.imshow(image)"
      ]
    },
    {
      "cell_type": "code",
      "execution_count": null,
      "metadata": {},
      "outputs": [],
      "source": [
        "image = request.urlopen(df.iloc[top_k_idx[-5]]['img'])\n",
        "image = plt.imread(image, format='WEBP')\n",
        "plt.imshow(image)"
      ]
    }
  ],
  "metadata": {
    "colab": {
      "provenance": []
    },
    "kernelspec": {
      "display_name": "Python 3",
      "language": "python",
      "name": "python3"
    },
    "language_info": {
      "codemirror_mode": {
        "name": "ipython",
        "version": 3
      },
      "file_extension": ".py",
      "mimetype": "text/x-python",
      "name": "python",
      "nbconvert_exporter": "python",
      "pygments_lexer": "ipython3",
      "version": "3.1.0"
    }
  },
  "nbformat": 4,
  "nbformat_minor": 0
}
